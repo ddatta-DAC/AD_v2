{
 "cells": [
  {
   "cell_type": "code",
   "execution_count": 20,
   "metadata": {},
   "outputs": [],
   "source": [
    "import numpy as np\n",
    "import pandas as pd\n",
    "np.set_printoptions(precision=1)"
   ]
  },
  {
   "cell_type": "code",
   "execution_count": 21,
   "metadata": {},
   "outputs": [],
   "source": [
    "df = pd.read_csv('shuttle2class.txt',sep=' ',header=None)\n",
    "np.set_printoptions(precision=1)"
   ]
  },
  {
   "cell_type": "code",
   "execution_count": 22,
   "metadata": {},
   "outputs": [
    {
     "name": "stdout",
     "output_type": "stream",
     "text": [
      "[-1.  -0.6 -0.3  0.1  0.5  0.9  1.3  1.6  2.   2.4  2.8]\n",
      "[-7.  -5.1 -3.2 -1.3  0.6  2.4  4.3  6.2  8.1 10.  11.9]\n",
      "[-1.2 -0.8 -0.4  0.1  0.5  0.9  1.4  1.8  2.2  2.7  3.1]\n",
      "[-1.  -0.3  0.3  0.9  1.5  2.1  2.7  3.3  3.9  4.6  5.2  5.8]\n",
      "[-2.6 -2.2 -1.8 -1.3 -0.9 -0.5 -0.1  0.3  0.7  1.1  1.6]\n",
      "[-5.8 -4.2 -2.5 -0.9  0.8  2.4  4.1  5.7  7.4  9.  10.6]\n",
      "[-2.6 -2.  -1.5 -1.  -0.5  0.   0.6  1.1  1.6  2.1  2.6]\n",
      "[-1.4 -1.  -0.6 -0.3  0.1  0.5  0.8  1.2  1.6  1.9  2.3]\n",
      "[-1.  -0.7 -0.5 -0.2  0.1  0.4  0.6  0.9  1.2  1.5  1.8]\n"
     ]
    }
   ],
   "source": [
    "for c in list(df.columns):\n",
    "    vals = list(df[c])\n",
    "    m1 = min(vals)\n",
    "    m2 = max(vals)\n",
    "    step = (m2-m1)/10\n",
    "    _cuts = np.arange(m1,m2+step,step)\n",
    "    print(_cuts)"
   ]
  },
  {
   "cell_type": "code",
   "execution_count": 12,
   "metadata": {},
   "outputs": [
    {
     "data": {
      "text/plain": [
       "array([1.  , 1.25, 1.5 , 1.75, 2.  , 2.25, 2.5 , 2.75, 3.  , 3.25, 3.5 ,\n",
       "       3.75, 4.  , 4.25, 4.5 , 4.75, 5.  , 5.25, 5.5 , 5.75, 6.  , 6.25,\n",
       "       6.5 , 6.75, 7.  , 7.25, 7.5 , 7.75, 8.  , 8.25, 8.5 , 8.75, 9.  ,\n",
       "       9.25, 9.5 , 9.75])"
      ]
     },
     "execution_count": 12,
     "metadata": {},
     "output_type": "execute_result"
    }
   ],
   "source": [
    "np.arange(1,10,step= 0.25 )"
   ]
  },
  {
   "cell_type": "code",
   "execution_count": null,
   "metadata": {},
   "outputs": [],
   "source": []
  }
 ],
 "metadata": {
  "kernelspec": {
   "display_name": "Python 3",
   "language": "python",
   "name": "python3"
  },
  "language_info": {
   "codemirror_mode": {
    "name": "ipython",
    "version": 3
   },
   "file_extension": ".py",
   "mimetype": "text/x-python",
   "name": "python",
   "nbconvert_exporter": "python",
   "pygments_lexer": "ipython3",
   "version": "3.6.8"
  }
 },
 "nbformat": 4,
 "nbformat_minor": 4
}
