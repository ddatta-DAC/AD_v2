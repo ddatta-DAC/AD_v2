{
 "cells": [
  {
   "cell_type": "code",
   "execution_count": 1,
   "metadata": {},
   "outputs": [],
   "source": [
    "import tensorflow as tf \n",
    "import numpy as np"
   ]
  },
  {
   "cell_type": "code",
   "execution_count": 2,
   "metadata": {},
   "outputs": [],
   "source": [
    "a1 = np.array([\n",
    "    [1.0,2,3],\n",
    "    [4.0,5,6],\n",
    "    [7.0,8,9],\n",
    "    [2.0,4,6]\n",
    "])\n",
    "w1 = np.array([[0.33],[0.66],[0.5]])\n",
    "w2 = np.array([0.33, 0.66, 0.5])"
   ]
  },
  {
   "cell_type": "code",
   "execution_count": 18,
   "metadata": {},
   "outputs": [
    {
     "name": "stdout",
     "output_type": "stream",
     "text": [
      "[[1. 2. 3.]\n",
      " [4. 5. 6.]\n",
      " [7. 8. 9.]\n",
      " [2. 4. 6.]]\n",
      "[[0.33 1.32 1.5 ]\n",
      " [1.32 3.3  3.  ]\n",
      " [2.31 5.28 4.5 ]\n",
      " [0.66 2.64 3.  ]]\n"
     ]
    }
   ],
   "source": [
    "sess = tf.compat.v1.InteractiveSession()\n",
    "a = tf.constant(a1)\n",
    "b = tf.constant(w2)\n",
    "print(a.eval())\n",
    "c = tf.multiply(a, b)\n",
    "# We can just use 'c.eval()' without passing 'sess'\n",
    "print(c.eval())\n",
    "sess.close()"
   ]
  },
  {
   "cell_type": "code",
   "execution_count": 22,
   "metadata": {},
   "outputs": [],
   "source": [
    "import numpy as np\n",
    "import pandas as pd\n",
    "import pickle\n",
    "import os"
   ]
  },
  {
   "cell_type": "code",
   "execution_count": 48,
   "metadata": {},
   "outputs": [],
   "source": [
    "DATA_DIR = './../generated_data'\n",
    "DIR = 'peru_export'"
   ]
  },
  {
   "cell_type": "code",
   "execution_count": 49,
   "metadata": {},
   "outputs": [],
   "source": [
    "train_x_neg_file = os.path.join(\n",
    "        DATA_DIR,\n",
    "        DIR,\n",
    "        'ape_negative_samples.pkl'\n",
    "    )\n",
    "\n",
    "# train_x_neg_file = os.path.join(\n",
    "#     DATA_DIR,\n",
    "#     DIR,\n",
    "#     'negative_samples_v1.pkl'\n",
    "# )\n"
   ]
  },
  {
   "cell_type": "code",
   "execution_count": 53,
   "metadata": {},
   "outputs": [],
   "source": [
    "with open(train_x_neg_file, 'rb') as fh:\n",
    "    train_x_neg = pickle.load(fh)\n"
   ]
  },
  {
   "cell_type": "code",
   "execution_count": 55,
   "metadata": {},
   "outputs": [],
   "source": [
    "train_x_neg = train_x_neg .astype(np.int32)"
   ]
  },
  {
   "cell_type": "code",
   "execution_count": 67,
   "metadata": {},
   "outputs": [
    {
     "data": {
      "text/plain": [
       "array([[  4,   0,  65,  29, 274,   0,  38],\n",
       "       [  0,   0,  65,  29, 274,   0,  38],\n",
       "       [  5,   0,  65,  29, 274,   0,  38],\n",
       "       [  7,  23,  65,  29, 274,   0,  38],\n",
       "       [  7,   5,  65,  29, 274,   0,  38],\n",
       "       [  7,  36,  65,  29, 274,   0,  38],\n",
       "       [  7,   0, 131,  29, 274,   0,  38],\n",
       "       [  7,   0, 115,  29, 274,   0,  38],\n",
       "       [  7,   0, 100,  29, 274,   0,  38],\n",
       "       [  7,   0,  65,  57, 274,   0,  38],\n",
       "       [  7,   0,  65,  26, 274,   0,  38],\n",
       "       [  7,   0,  65,  42, 274,   0,  38],\n",
       "       [  7,   0,  65,  29, 236,   0,  38],\n",
       "       [  7,   0,  65,  29, 363,   0,  38],\n",
       "       [  7,   0,  65,  29,  36,   0,  38],\n",
       "       [  7,   0,  65,  29, 274,   1,  38],\n",
       "       [  7,   0,  65,  29, 274,   2,  38],\n",
       "       [  7,   0,  65,  29, 274,   2,  38],\n",
       "       [  7,   0,  65,  29, 274,   0,  27],\n",
       "       [  7,   0,  65,  29, 274,   0,   6],\n",
       "       [  7,   0,  65,  29, 274,   0,  22]], dtype=int32)"
      ]
     },
     "execution_count": 67,
     "metadata": {},
     "output_type": "execute_result"
    }
   ],
   "source": [
    "train_x_neg[0]"
   ]
  },
  {
   "cell_type": "code",
   "execution_count": 58,
   "metadata": {},
   "outputs": [],
   "source": [
    "import numpy as np\n"
   ]
  },
  {
   "cell_type": "code",
   "execution_count": 59,
   "metadata": {},
   "outputs": [],
   "source": [
    "z = train_x_neg[0]"
   ]
  },
  {
   "cell_type": "code",
   "execution_count": 70,
   "metadata": {},
   "outputs": [
    {
     "data": {
      "text/plain": [
       "[array([[  4,   0,  65,  29, 274,   0,  38]], dtype=int32),\n",
       " array([[  0,   0,  65,  29, 274,   0,  38]], dtype=int32),\n",
       " array([[  5,   0,  65,  29, 274,   0,  38]], dtype=int32),\n",
       " array([[  7,  23,  65,  29, 274,   0,  38]], dtype=int32),\n",
       " array([[  7,   5,  65,  29, 274,   0,  38]], dtype=int32),\n",
       " array([[  7,  36,  65,  29, 274,   0,  38]], dtype=int32),\n",
       " array([[  7,   0, 131,  29, 274,   0,  38]], dtype=int32),\n",
       " array([[  7,   0, 115,  29, 274,   0,  38]], dtype=int32),\n",
       " array([[  7,   0, 100,  29, 274,   0,  38]], dtype=int32),\n",
       " array([[  7,   0,  65,  57, 274,   0,  38]], dtype=int32),\n",
       " array([[  7,   0,  65,  26, 274,   0,  38]], dtype=int32),\n",
       " array([[  7,   0,  65,  42, 274,   0,  38]], dtype=int32),\n",
       " array([[  7,   0,  65,  29, 236,   0,  38]], dtype=int32),\n",
       " array([[  7,   0,  65,  29, 363,   0,  38]], dtype=int32),\n",
       " array([[ 7,  0, 65, 29, 36,  0, 38]], dtype=int32),\n",
       " array([[  7,   0,  65,  29, 274,   1,  38]], dtype=int32),\n",
       " array([[  7,   0,  65,  29, 274,   2,  38]], dtype=int32),\n",
       " array([[  7,   0,  65,  29, 274,   2,  38]], dtype=int32),\n",
       " array([[  7,   0,  65,  29, 274,   0,  27]], dtype=int32),\n",
       " array([[  7,   0,  65,  29, 274,   0,   6]], dtype=int32),\n",
       " array([[  7,   0,  65,  29, 274,   0,  22]], dtype=int32)]"
      ]
     },
     "execution_count": 70,
     "metadata": {},
     "output_type": "execute_result"
    }
   ],
   "source": [
    "np.array_split(z,indices_or_sections=z.shape[0],axis=0)"
   ]
  },
  {
   "cell_type": "code",
   "execution_count": null,
   "metadata": {},
   "outputs": [],
   "source": []
  }
 ],
 "metadata": {
  "kernelspec": {
   "display_name": "Python 3",
   "language": "python",
   "name": "python3"
  },
  "language_info": {
   "codemirror_mode": {
    "name": "ipython",
    "version": 3
   },
   "file_extension": ".py",
   "mimetype": "text/x-python",
   "name": "python",
   "nbconvert_exporter": "python",
   "pygments_lexer": "ipython3",
   "version": "3.6.8"
  }
 },
 "nbformat": 4,
 "nbformat_minor": 4
}
