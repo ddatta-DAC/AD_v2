{
 "cells": [
  {
   "cell_type": "code",
   "execution_count": 1,
   "metadata": {},
   "outputs": [],
   "source": [
    "import tensorflow as tf \n",
    "import numpy as np"
   ]
  },
  {
   "cell_type": "code",
   "execution_count": 2,
   "metadata": {},
   "outputs": [],
   "source": [
    "a1 = np.array([\n",
    "    [1.0,2,3],\n",
    "    [4.0,5,6],\n",
    "    [7.0,8,9],\n",
    "    [2.0,4,6]\n",
    "])\n",
    "w1 = np.array([[0.33],[0.66],[0.5]])\n",
    "w2 = np.array([0.33, 0.66, 0.5])"
   ]
  },
  {
   "cell_type": "code",
   "execution_count": 18,
   "metadata": {},
   "outputs": [
    {
     "name": "stdout",
     "output_type": "stream",
     "text": [
      "[[1. 2. 3.]\n",
      " [4. 5. 6.]\n",
      " [7. 8. 9.]\n",
      " [2. 4. 6.]]\n",
      "[[0.33 1.32 1.5 ]\n",
      " [1.32 3.3  3.  ]\n",
      " [2.31 5.28 4.5 ]\n",
      " [0.66 2.64 3.  ]]\n"
     ]
    }
   ],
   "source": [
    "sess = tf.compat.v1.InteractiveSession()\n",
    "a = tf.constant(a1)\n",
    "b = tf.constant(w2)\n",
    "print(a.eval())\n",
    "c = tf.multiply(a, b)\n",
    "# We can just use 'c.eval()' without passing 'sess'\n",
    "print(c.eval())\n",
    "sess.close()"
   ]
  },
  {
   "cell_type": "code",
   "execution_count": 22,
   "metadata": {},
   "outputs": [],
   "source": [
    "import numpy as np\n",
    "import pandas as pd\n",
    "import pickle\n",
    "import os"
   ]
  },
  {
   "cell_type": "code",
   "execution_count": 48,
   "metadata": {},
   "outputs": [],
   "source": [
    "DATA_DIR = './../generated_data'\n",
    "DIR = 'peru_export'"
   ]
  },
  {
   "cell_type": "code",
   "execution_count": 49,
   "metadata": {},
   "outputs": [],
   "source": [
    "train_x_neg_file = os.path.join(\n",
    "        DATA_DIR,\n",
    "        DIR,\n",
    "        'ape_negative_samples.pkl'\n",
    "    )\n",
    "\n",
    "# train_x_neg_file = os.path.join(\n",
    "#     DATA_DIR,\n",
    "#     DIR,\n",
    "#     'negative_samples_v1.pkl'\n",
    "# )\n"
   ]
  },
  {
   "cell_type": "code",
   "execution_count": 53,
   "metadata": {},
   "outputs": [],
   "source": [
    "with open(train_x_neg_file, 'rb') as fh:\n",
    "    train_x_neg = pickle.load(fh)\n"
   ]
  },
  {
   "cell_type": "code",
   "execution_count": 55,
   "metadata": {},
   "outputs": [],
   "source": [
    "train_x_neg = train_x_neg .astype(np.int32)"
   ]
  },
  {
   "cell_type": "code",
   "execution_count": 67,
   "metadata": {},
   "outputs": [
    {
     "data": {
      "text/plain": [
       "array([[  4,   0,  65,  29, 274,   0,  38],\n",
       "       [  0,   0,  65,  29, 274,   0,  38],\n",
       "       [  5,   0,  65,  29, 274,   0,  38],\n",
       "       [  7,  23,  65,  29, 274,   0,  38],\n",
       "       [  7,   5,  65,  29, 274,   0,  38],\n",
       "       [  7,  36,  65,  29, 274,   0,  38],\n",
       "       [  7,   0, 131,  29, 274,   0,  38],\n",
       "       [  7,   0, 115,  29, 274,   0,  38],\n",
       "       [  7,   0, 100,  29, 274,   0,  38],\n",
       "       [  7,   0,  65,  57, 274,   0,  38],\n",
       "       [  7,   0,  65,  26, 274,   0,  38],\n",
       "       [  7,   0,  65,  42, 274,   0,  38],\n",
       "       [  7,   0,  65,  29, 236,   0,  38],\n",
       "       [  7,   0,  65,  29, 363,   0,  38],\n",
       "       [  7,   0,  65,  29,  36,   0,  38],\n",
       "       [  7,   0,  65,  29, 274,   1,  38],\n",
       "       [  7,   0,  65,  29, 274,   2,  38],\n",
       "       [  7,   0,  65,  29, 274,   2,  38],\n",
       "       [  7,   0,  65,  29, 274,   0,  27],\n",
       "       [  7,   0,  65,  29, 274,   0,   6],\n",
       "       [  7,   0,  65,  29, 274,   0,  22]], dtype=int32)"
      ]
     },
     "execution_count": 67,
     "metadata": {},
     "output_type": "execute_result"
    }
   ],
   "source": [
    "train_x_neg[0]"
   ]
  },
  {
   "cell_type": "code",
   "execution_count": 2,
   "metadata": {},
   "outputs": [],
   "source": [
    "import numpy as np\n",
    "import pandas as pd"
   ]
  },
  {
   "cell_type": "code",
   "execution_count": 59,
   "metadata": {},
   "outputs": [],
   "source": [
    "z = train_x_neg[0]"
   ]
  },
  {
   "cell_type": "code",
   "execution_count": 70,
   "metadata": {},
   "outputs": [
    {
     "data": {
      "text/plain": [
       "[array([[  4,   0,  65,  29, 274,   0,  38]], dtype=int32),\n",
       " array([[  0,   0,  65,  29, 274,   0,  38]], dtype=int32),\n",
       " array([[  5,   0,  65,  29, 274,   0,  38]], dtype=int32),\n",
       " array([[  7,  23,  65,  29, 274,   0,  38]], dtype=int32),\n",
       " array([[  7,   5,  65,  29, 274,   0,  38]], dtype=int32),\n",
       " array([[  7,  36,  65,  29, 274,   0,  38]], dtype=int32),\n",
       " array([[  7,   0, 131,  29, 274,   0,  38]], dtype=int32),\n",
       " array([[  7,   0, 115,  29, 274,   0,  38]], dtype=int32),\n",
       " array([[  7,   0, 100,  29, 274,   0,  38]], dtype=int32),\n",
       " array([[  7,   0,  65,  57, 274,   0,  38]], dtype=int32),\n",
       " array([[  7,   0,  65,  26, 274,   0,  38]], dtype=int32),\n",
       " array([[  7,   0,  65,  42, 274,   0,  38]], dtype=int32),\n",
       " array([[  7,   0,  65,  29, 236,   0,  38]], dtype=int32),\n",
       " array([[  7,   0,  65,  29, 363,   0,  38]], dtype=int32),\n",
       " array([[ 7,  0, 65, 29, 36,  0, 38]], dtype=int32),\n",
       " array([[  7,   0,  65,  29, 274,   1,  38]], dtype=int32),\n",
       " array([[  7,   0,  65,  29, 274,   2,  38]], dtype=int32),\n",
       " array([[  7,   0,  65,  29, 274,   2,  38]], dtype=int32),\n",
       " array([[  7,   0,  65,  29, 274,   0,  27]], dtype=int32),\n",
       " array([[  7,   0,  65,  29, 274,   0,   6]], dtype=int32),\n",
       " array([[  7,   0,  65,  29, 274,   0,  22]], dtype=int32)]"
      ]
     },
     "execution_count": 70,
     "metadata": {},
     "output_type": "execute_result"
    }
   ],
   "source": [
    "np.array_split(z,indices_or_sections=z.shape[0],axis=0)"
   ]
  },
  {
   "cell_type": "code",
   "execution_count": 8,
   "metadata": {},
   "outputs": [
    {
     "data": {
      "text/html": [
       "<div>\n",
       "<style scoped>\n",
       "    .dataframe tbody tr th:only-of-type {\n",
       "        vertical-align: middle;\n",
       "    }\n",
       "\n",
       "    .dataframe tbody tr th {\n",
       "        vertical-align: top;\n",
       "    }\n",
       "\n",
       "    .dataframe thead th {\n",
       "        text-align: right;\n",
       "    }\n",
       "</style>\n",
       "<table border=\"1\" class=\"dataframe\">\n",
       "  <thead>\n",
       "    <tr style=\"text-align: right;\">\n",
       "      <th></th>\n",
       "      <th>a</th>\n",
       "      <th>b</th>\n",
       "      <th>c</th>\n",
       "      <th>d</th>\n",
       "    </tr>\n",
       "  </thead>\n",
       "  <tbody>\n",
       "    <tr>\n",
       "      <th>0</th>\n",
       "      <td>1</td>\n",
       "      <td>2</td>\n",
       "      <td>3</td>\n",
       "      <td>6</td>\n",
       "    </tr>\n",
       "    <tr>\n",
       "      <th>1</th>\n",
       "      <td>1</td>\n",
       "      <td>2</td>\n",
       "      <td>3</td>\n",
       "      <td>4</td>\n",
       "    </tr>\n",
       "    <tr>\n",
       "      <th>2</th>\n",
       "      <td>2</td>\n",
       "      <td>5</td>\n",
       "      <td>3</td>\n",
       "      <td>6</td>\n",
       "    </tr>\n",
       "    <tr>\n",
       "      <th>3</th>\n",
       "      <td>1</td>\n",
       "      <td>2</td>\n",
       "      <td>3</td>\n",
       "      <td>4</td>\n",
       "    </tr>\n",
       "    <tr>\n",
       "      <th>4</th>\n",
       "      <td>2</td>\n",
       "      <td>5</td>\n",
       "      <td>3</td>\n",
       "      <td>6</td>\n",
       "    </tr>\n",
       "  </tbody>\n",
       "</table>\n",
       "</div>"
      ],
      "text/plain": [
       "   a  b  c  d\n",
       "0  1  2  3  6\n",
       "1  1  2  3  4\n",
       "2  2  5  3  6\n",
       "3  1  2  3  4\n",
       "4  2  5  3  6"
      ]
     },
     "execution_count": 8,
     "metadata": {},
     "output_type": "execute_result"
    }
   ],
   "source": [
    "\n",
    "a = [[1,2,3,6],[1,2,3,4],[2,5,3,6],[1,2,3,4],[2,5,3,6]]\n",
    "d1 = pd.DataFrame(a)\n",
    "d1 = d1.rename(columns={0:'a',1:'b',2:'c',3:'d'})\n",
    "d1"
   ]
  },
  {
   "cell_type": "code",
   "execution_count": 11,
   "metadata": {},
   "outputs": [
    {
     "data": {
      "text/html": [
       "<div>\n",
       "<style scoped>\n",
       "    .dataframe tbody tr th:only-of-type {\n",
       "        vertical-align: middle;\n",
       "    }\n",
       "\n",
       "    .dataframe tbody tr th {\n",
       "        vertical-align: top;\n",
       "    }\n",
       "\n",
       "    .dataframe thead th {\n",
       "        text-align: right;\n",
       "    }\n",
       "</style>\n",
       "<table border=\"1\" class=\"dataframe\">\n",
       "  <thead>\n",
       "    <tr style=\"text-align: right;\">\n",
       "      <th></th>\n",
       "      <th>a</th>\n",
       "      <th>b</th>\n",
       "      <th>p</th>\n",
       "    </tr>\n",
       "  </thead>\n",
       "  <tbody>\n",
       "    <tr>\n",
       "      <th>0</th>\n",
       "      <td>1</td>\n",
       "      <td>2</td>\n",
       "      <td>0.2</td>\n",
       "    </tr>\n",
       "    <tr>\n",
       "      <th>1</th>\n",
       "      <td>2</td>\n",
       "      <td>5</td>\n",
       "      <td>0.8</td>\n",
       "    </tr>\n",
       "  </tbody>\n",
       "</table>\n",
       "</div>"
      ],
      "text/plain": [
       "   a  b    p\n",
       "0  1  2  0.2\n",
       "1  2  5  0.8"
      ]
     },
     "execution_count": 11,
     "metadata": {},
     "output_type": "execute_result"
    }
   ],
   "source": [
    "d2 = pd.DataFrame(\n",
    "    [[1,2,0.2],[2,5,0.8]],\n",
    "    columns=['a','b','p'] )\n",
    "d2\n"
   ]
  },
  {
   "cell_type": "code",
   "execution_count": 18,
   "metadata": {},
   "outputs": [
    {
     "data": {
      "text/html": [
       "<div>\n",
       "<style scoped>\n",
       "    .dataframe tbody tr th:only-of-type {\n",
       "        vertical-align: middle;\n",
       "    }\n",
       "\n",
       "    .dataframe tbody tr th {\n",
       "        vertical-align: top;\n",
       "    }\n",
       "\n",
       "    .dataframe thead th {\n",
       "        text-align: right;\n",
       "    }\n",
       "</style>\n",
       "<table border=\"1\" class=\"dataframe\">\n",
       "  <thead>\n",
       "    <tr style=\"text-align: right;\">\n",
       "      <th></th>\n",
       "      <th>a</th>\n",
       "      <th>b</th>\n",
       "      <th>c</th>\n",
       "      <th>d</th>\n",
       "      <th>p</th>\n",
       "    </tr>\n",
       "  </thead>\n",
       "  <tbody>\n",
       "    <tr>\n",
       "      <th>0</th>\n",
       "      <td>1</td>\n",
       "      <td>2</td>\n",
       "      <td>3</td>\n",
       "      <td>6</td>\n",
       "      <td>0.2</td>\n",
       "    </tr>\n",
       "    <tr>\n",
       "      <th>1</th>\n",
       "      <td>1</td>\n",
       "      <td>2</td>\n",
       "      <td>3</td>\n",
       "      <td>4</td>\n",
       "      <td>0.2</td>\n",
       "    </tr>\n",
       "    <tr>\n",
       "      <th>3</th>\n",
       "      <td>1</td>\n",
       "      <td>2</td>\n",
       "      <td>3</td>\n",
       "      <td>4</td>\n",
       "      <td>0.2</td>\n",
       "    </tr>\n",
       "    <tr>\n",
       "      <th>2</th>\n",
       "      <td>2</td>\n",
       "      <td>5</td>\n",
       "      <td>3</td>\n",
       "      <td>6</td>\n",
       "      <td>0.8</td>\n",
       "    </tr>\n",
       "    <tr>\n",
       "      <th>4</th>\n",
       "      <td>2</td>\n",
       "      <td>5</td>\n",
       "      <td>3</td>\n",
       "      <td>6</td>\n",
       "      <td>0.8</td>\n",
       "    </tr>\n",
       "  </tbody>\n",
       "</table>\n",
       "</div>"
      ],
      "text/plain": [
       "   a  b  c  d    p\n",
       "0  1  2  3  6  0.2\n",
       "1  1  2  3  4  0.2\n",
       "3  1  2  3  4  0.2\n",
       "2  2  5  3  6  0.8\n",
       "4  2  5  3  6  0.8"
      ]
     },
     "execution_count": 18,
     "metadata": {},
     "output_type": "execute_result"
    }
   ],
   "source": [
    "d1.join(d2.set_index(['a','b']),on= ['a', 'b'], how= 'outer')"
   ]
  },
  {
   "cell_type": "code",
   "execution_count": null,
   "metadata": {},
   "outputs": [],
   "source": []
  }
 ],
 "metadata": {
  "kernelspec": {
   "display_name": "Python 3",
   "language": "python",
   "name": "python3"
  },
  "language_info": {
   "codemirror_mode": {
    "name": "ipython",
    "version": 3
   },
   "file_extension": ".py",
   "mimetype": "text/x-python",
   "name": "python",
   "nbconvert_exporter": "python",
   "pygments_lexer": "ipython3",
   "version": "3.6.8"
  }
 },
 "nbformat": 4,
 "nbformat_minor": 4
}
