{
 "cells": [
  {
   "cell_type": "code",
   "execution_count": 1,
   "metadata": {},
   "outputs": [],
   "source": [
    "import os\n",
    "import sys\n",
    "import pandas as pd\n",
    "import numpy as np\n",
    "import sklearn\n",
    "import glob\n",
    "import pickle\n",
    "import random\n",
    "from joblib import Parallel, delayed"
   ]
  },
  {
   "cell_type": "code",
   "execution_count": 2,
   "metadata": {},
   "outputs": [],
   "source": [
    "DIR = 'china_export'"
   ]
  },
  {
   "cell_type": "code",
   "execution_count": 116,
   "metadata": {},
   "outputs": [],
   "source": [
    "def get_files(_type='all'):\n",
    "    data_dir = os.path.join(\n",
    "        './../wwf_data_v1',\n",
    "        DIR\n",
    "    )\n",
    "    if _type == 'train':\n",
    "        files = sorted(glob.glob(os.path.join(data_dir,'*0[1-4]*2015*.csv')))\n",
    "    elif _type == 'test':\n",
    "        files = sorted(glob.glob(os.path.join(data_dir,'*0[5-6]*2015*.csv')))\n",
    "            \n",
    "    else:\n",
    "        files = sorted(glob.glob(os.path.join(data_dir,'**2015*.csv'))) \n",
    "    return files"
   ]
  },
  {
   "cell_type": "code",
   "execution_count": 117,
   "metadata": {},
   "outputs": [],
   "source": [
    "use_cols = [ \n",
    "    'PanjivaRecordID',\n",
    "    'AdminRegion',\n",
    "    'CountryOfSale',\n",
    "    'hscode_6',\n",
    "    'ShipmentDestination',\n",
    "    'Province',\n",
    "    'ShipperPanjivaID',\n",
    "    'ShipperStateRegion',\n",
    "    'ShipperCountry',\n",
    "    'TradeType',\n",
    "    'TransportMethod'\n",
    "]\n",
    "\n",
    "freq_bound = 5\n",
    "column_value_filters = False\n",
    "id_col = 'PanjivaRecordID'\n",
    "ns_id_col = 'NegSampleID'\n",
    "term_2_col = 'term_2'\n",
    "term_4_col = 'term_4'\n",
    "num_neg_samples = 3"
   ]
  },
  {
   "cell_type": "code",
   "execution_count": 121,
   "metadata": {},
   "outputs": [],
   "source": [
    "files = get_files(_type='test')"
   ]
  },
  {
   "cell_type": "code",
   "execution_count": 122,
   "metadata": {},
   "outputs": [
    {
     "data": {
      "text/plain": [
       "['./../wwf_data_v1/china_export/panjiva_china_exports_05_2015_filtered.csv',\n",
       " './../wwf_data_v1/china_export/panjiva_china_exports_06_2015_filtered.csv']"
      ]
     },
     "execution_count": 122,
     "metadata": {},
     "output_type": "execute_result"
    }
   ],
   "source": [
    "files"
   ]
  },
  {
   "cell_type": "code",
   "execution_count": 123,
   "metadata": {},
   "outputs": [
    {
     "name": "stdout",
     "output_type": "stream",
     "text": [
      "76682\n",
      "73753\n",
      "---\n",
      "150435\n"
     ]
    }
   ],
   "source": [
    "s = 0\n",
    "for f in files:\n",
    "    _df = pd.read_csv(f,low_memory=True)\n",
    "    print(len(_df))\n",
    "    s += len(_df)\n",
    "print('---')\n",
    "print(s)"
   ]
  },
  {
   "cell_type": "code",
   "execution_count": 124,
   "metadata": {},
   "outputs": [
    {
     "name": "stdout",
     "output_type": "stream",
     "text": [
      "76682\n",
      "73753\n",
      "---\n",
      "150435\n"
     ]
    }
   ],
   "source": [
    "s = 0\n",
    "for f in files:\n",
    "    _df = pd.read_csv(f,low_memory=True)\n",
    "    print(len(_df))\n",
    "    s += len(_df)\n",
    "print('---')\n",
    "print(s)"
   ]
  },
  {
   "cell_type": "code",
   "execution_count": null,
   "metadata": {},
   "outputs": [],
   "source": []
  }
 ],
 "metadata": {
  "kernelspec": {
   "display_name": "Python 3",
   "language": "python",
   "name": "python3"
  },
  "language_info": {
   "codemirror_mode": {
    "name": "ipython",
    "version": 3
   },
   "file_extension": ".py",
   "mimetype": "text/x-python",
   "name": "python",
   "nbconvert_exporter": "python",
   "pygments_lexer": "ipython3",
   "version": "3.6.8"
  }
 },
 "nbformat": 4,
 "nbformat_minor": 4
}
