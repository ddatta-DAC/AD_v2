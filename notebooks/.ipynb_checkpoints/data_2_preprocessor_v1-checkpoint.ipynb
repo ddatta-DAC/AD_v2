{
 "cells": [
  {
   "cell_type": "code",
   "execution_count": 3,
   "metadata": {},
   "outputs": [],
   "source": [
    "from numpy import genfromtxt\n",
    "import numpy as np\n",
    "import matplotlib.pyplot as plt\n",
    "import seaborn as sns\n",
    "import pandas as pd\n",
    "from scipy.stats import entropy\n",
    "from math import log, e\n",
    "import math\n",
    "from sklearn.utils import shuffle\n",
    "import os\n",
    "import pickle\n",
    "from scipy.stats import iqr\n",
    "from sklearn.model_selection import train_test_split"
   ]
  },
  {
   "cell_type": "code",
   "execution_count": 26,
   "metadata": {},
   "outputs": [],
   "source": [
    "save_dir = '../data_v1/data_2'"
   ]
  },
  {
   "cell_type": "code",
   "execution_count": 4,
   "metadata": {},
   "outputs": [],
   "source": [
    "my_data = genfromtxt('../data_v1/data_2/covtype.data', delimiter=',')"
   ]
  },
  {
   "cell_type": "code",
   "execution_count": 5,
   "metadata": {},
   "outputs": [
    {
     "data": {
      "text/plain": [
       "(581012, 55)"
      ]
     },
     "execution_count": 5,
     "metadata": {},
     "output_type": "execute_result"
    }
   ],
   "source": [
    "my_data.shape"
   ]
  },
  {
   "cell_type": "code",
   "execution_count": 6,
   "metadata": {},
   "outputs": [
    {
     "name": "stdout",
     "output_type": "stream",
     "text": [
      "Class : 1.0 | count : 211840\n",
      "Class : 2.0 | count : 283301\n",
      "Class : 3.0 | count : 35754\n",
      "Class : 4.0 | count : 2747\n",
      "Class : 5.0 | count : 9493\n",
      "Class : 6.0 | count : 17367\n",
      "Class : 7.0 | count : 20510\n"
     ]
    }
   ],
   "source": [
    "for i in set(my_data[:,-1]) :\n",
    "    _list = list(my_data[:,-1])\n",
    "    c = _list.count(i)\n",
    "    print('Class :', i,'| count :',c )"
   ]
  },
  {
   "cell_type": "code",
   "execution_count": 7,
   "metadata": {},
   "outputs": [],
   "source": [
    "# there are 7 classes \n",
    "# taking the majority class as normal and the class(es) with minimum number of points as anomalous\n",
    "# this assumption has been done in CompreX\n",
    "\n",
    "normal_class = 2\n",
    "anomaly_class = 4"
   ]
  },
  {
   "cell_type": "code",
   "execution_count": 8,
   "metadata": {},
   "outputs": [
    {
     "name": "stdout",
     "output_type": "stream",
     "text": [
      "[0, 1, 2, 3, 4, 5, 6, 7, 8, 9, 10, 11, 12, 13, 14, 15, 16, 17, 18, 19, 20, 21, 22, 23, 24, 25, 26, 27, 28, 29, 30, 31, 32, 33, 34, 35, 36, 37, 38, 39, 40, 41, 42, 43, 44, 45, 46, 47, 48, 49, 50, 51, 52, 53, 54]\n"
     ]
    }
   ],
   "source": [
    "df = pd.DataFrame(data=my_data)\n",
    "print(list(df.columns))"
   ]
  },
  {
   "cell_type": "markdown",
   "metadata": {},
   "source": [
    "0 Elevation / quantitative /meters / Elevation in meters \n",
    "\n",
    "1 Aspect / quantitative / azimuth / Aspect in degrees azimuth \n",
    "\n",
    "2 Slope / quantitative / degrees / Slope in degrees \n",
    "\n",
    "3 Horizontal_Distance_To_Hydrology / quantitative / meters / Horz Dist to nearest surface water features\n",
    "\n",
    "4 Vertical_Distance_To_Hydrology / quantitative / meters / Vert Dist to nearest surface water features \n",
    "\n",
    "5 Horizontal_Distance_To_Roadways / quantitative / meters / Horz Dist to nearest roadway \n",
    "\n",
    "6 Hillshade_9am / quantitative / 0 to 255 index / Hillshade index at 9am, summer solstice \n",
    "\n",
    "7 Hillshade_Noon / quantitative / 0 to 255 index / Hillshade index at noon, summer soltice \n",
    "\n",
    "8 Hillshade_3pm / quantitative / 0 to 255 index / Hillshade index at 3pm, summer solstice \n",
    "\n",
    "9 Horizontal_Distance_To_Fire_Points / quantitative / meters / Horz Dist to nearest wildfire ignition points \n",
    "\n",
    "10-13 Wilderness_Area (4 binary columns) / qualitative / 0 (absence) or 1 (presence) / Wilderness area designation \n",
    "\n",
    "14-53 Soil_Type (40 binary columns) / qualitative / 0 (absence) or 1 (presence) / Soil Type designation \n",
    "\n",
    "54 Cover_Type (7 types) / integer / 1 to 7 / Forest Cover Type designation"
   ]
  },
  {
   "cell_type": "code",
   "execution_count": 9,
   "metadata": {},
   "outputs": [],
   "source": [
    "# Join up columns 14 to 53"
   ]
  },
  {
   "cell_type": "code",
   "execution_count": 10,
   "metadata": {},
   "outputs": [],
   "source": [
    "for c in range(14,53+1):\n",
    "    df[c] = df[c].astype(int)"
   ]
  },
  {
   "cell_type": "code",
   "execution_count": null,
   "metadata": {},
   "outputs": [],
   "source": []
  },
  {
   "cell_type": "code",
   "execution_count": 11,
   "metadata": {},
   "outputs": [],
   "source": [
    "# join up column\n",
    "# 14 to 54 is  soil type\n",
    "\n",
    "df['soil_type'] = None\n",
    "def join_14_53(row):\n",
    "    r = list(row[list(range(14,54))])\n",
    "    r = np.argmax(r)\n",
    "    return r\n",
    "    \n",
    "df['soil_type'] = df.apply(join_14_53,axis=1)"
   ]
  },
  {
   "cell_type": "code",
   "execution_count": 12,
   "metadata": {},
   "outputs": [
    {
     "data": {
      "text/plain": [
       "40"
      ]
     },
     "execution_count": 12,
     "metadata": {},
     "output_type": "execute_result"
    }
   ],
   "source": [
    "len(set(df['soil_type']))"
   ]
  },
  {
   "cell_type": "code",
   "execution_count": 13,
   "metadata": {},
   "outputs": [],
   "source": [
    "for r in list(range(14,54)):\n",
    "    try:\n",
    "        del df[r]\n",
    "    except:\n",
    "        pass"
   ]
  },
  {
   "cell_type": "code",
   "execution_count": 14,
   "metadata": {},
   "outputs": [],
   "source": [
    "df['wa'] = None\n",
    "def join_10_13(row):\n",
    "    r = list(row[list(range(10,14))])\n",
    "    r = np.argmax(r)\n",
    "    return r\n",
    "    \n",
    "df['wa'] = df.apply(\n",
    "    join_10_13,\n",
    "    axis=1\n",
    ")"
   ]
  },
  {
   "cell_type": "code",
   "execution_count": 15,
   "metadata": {},
   "outputs": [],
   "source": [
    "for r in list(range(10,14)):\n",
    "    try:\n",
    "        del df[r]\n",
    "    except:\n",
    "        pass"
   ]
  },
  {
   "cell_type": "code",
   "execution_count": 16,
   "metadata": {},
   "outputs": [],
   "source": [
    "df_new = pd.DataFrame(df,copy=True)"
   ]
  },
  {
   "cell_type": "code",
   "execution_count": 18,
   "metadata": {},
   "outputs": [
    {
     "data": {
      "text/plain": [
       "Index([0, 1, 2, 3, 4, 5, 6, 7, 8, 9, 54, 'soil_type', 'wa'], dtype='object')"
      ]
     },
     "execution_count": 18,
     "metadata": {},
     "output_type": "execute_result"
    }
   ],
   "source": [
    "df_new.columns"
   ]
  },
  {
   "cell_type": "code",
   "execution_count": null,
   "metadata": {},
   "outputs": [],
   "source": []
  },
  {
   "cell_type": "code",
   "execution_count": 19,
   "metadata": {},
   "outputs": [],
   "source": [
    "bin_list = list(range(0,10))"
   ]
  },
  {
   "cell_type": "code",
   "execution_count": 20,
   "metadata": {},
   "outputs": [
    {
     "name": "stdout",
     "output_type": "stream",
     "text": [
      "1978 float64\n",
      "> 1978\n",
      "361 float64\n",
      "> 361\n",
      "67 float64\n",
      "> 67\n",
      "551 float64\n",
      "> 551\n",
      "700 float64\n",
      "> 700\n",
      "5785 float64\n",
      "> 5785\n",
      "207 float64\n",
      "> 207\n",
      "185 float64\n",
      "> 185\n",
      "255 float64\n",
      "> 255\n",
      "5827 float64\n",
      "> 5827\n",
      "7 float64\n",
      "40 int64\n",
      "4 int64\n"
     ]
    }
   ],
   "source": [
    "for i in df_new.columns:\n",
    "    vals = set(list(df_new[i]))\n",
    "    print(len(vals), df_new[i].dtype)\n",
    "    if str(df_new[i].dtype) == 'float64' and i in bin_list:\n",
    "        print(\n",
    "            '>',\n",
    "            len(set(df_new[i]))\n",
    "        )\n",
    "        if len(set(df[i]))>2:\n",
    "            bins = 20\n",
    "            labels=list(range(0,bins))\n",
    "            df_new[i] = pd.cut(\n",
    "                df_new[i], \n",
    "                bins,\n",
    "                labels=labels\n",
    "            )  \n",
    "        "
   ]
  },
  {
   "cell_type": "code",
   "execution_count": 21,
   "metadata": {},
   "outputs": [],
   "source": [
    "df_new = df_new.rename(columns = {54:'class'})\n"
   ]
  },
  {
   "cell_type": "code",
   "execution_count": 22,
   "metadata": {},
   "outputs": [
    {
     "data": {
      "text/html": [
       "<div>\n",
       "<style scoped>\n",
       "    .dataframe tbody tr th:only-of-type {\n",
       "        vertical-align: middle;\n",
       "    }\n",
       "\n",
       "    .dataframe tbody tr th {\n",
       "        vertical-align: top;\n",
       "    }\n",
       "\n",
       "    .dataframe thead th {\n",
       "        text-align: right;\n",
       "    }\n",
       "</style>\n",
       "<table border=\"1\" class=\"dataframe\">\n",
       "  <thead>\n",
       "    <tr style=\"text-align: right;\">\n",
       "      <th></th>\n",
       "      <th>0</th>\n",
       "      <th>1</th>\n",
       "      <th>2</th>\n",
       "      <th>3</th>\n",
       "      <th>4</th>\n",
       "      <th>5</th>\n",
       "      <th>6</th>\n",
       "      <th>7</th>\n",
       "      <th>8</th>\n",
       "      <th>9</th>\n",
       "      <th>class</th>\n",
       "      <th>soil_type</th>\n",
       "      <th>wa</th>\n",
       "    </tr>\n",
       "  </thead>\n",
       "  <tbody>\n",
       "    <tr>\n",
       "      <th>0</th>\n",
       "      <td>7</td>\n",
       "      <td>2</td>\n",
       "      <td>0</td>\n",
       "      <td>3</td>\n",
       "      <td>4</td>\n",
       "      <td>1</td>\n",
       "      <td>17</td>\n",
       "      <td>18</td>\n",
       "      <td>11</td>\n",
       "      <td>17</td>\n",
       "      <td>5.0</td>\n",
       "      <td>28</td>\n",
       "      <td>0</td>\n",
       "    </tr>\n",
       "    <tr>\n",
       "      <th>1</th>\n",
       "      <td>7</td>\n",
       "      <td>3</td>\n",
       "      <td>0</td>\n",
       "      <td>3</td>\n",
       "      <td>4</td>\n",
       "      <td>1</td>\n",
       "      <td>17</td>\n",
       "      <td>18</td>\n",
       "      <td>11</td>\n",
       "      <td>17</td>\n",
       "      <td>5.0</td>\n",
       "      <td>28</td>\n",
       "      <td>0</td>\n",
       "    </tr>\n",
       "    <tr>\n",
       "      <th>2</th>\n",
       "      <td>9</td>\n",
       "      <td>7</td>\n",
       "      <td>2</td>\n",
       "      <td>3</td>\n",
       "      <td>6</td>\n",
       "      <td>8</td>\n",
       "      <td>18</td>\n",
       "      <td>18</td>\n",
       "      <td>10</td>\n",
       "      <td>17</td>\n",
       "      <td>2.0</td>\n",
       "      <td>11</td>\n",
       "      <td>0</td>\n",
       "    </tr>\n",
       "  </tbody>\n",
       "</table>\n",
       "</div>"
      ],
      "text/plain": [
       "   0  1  2  3  4  5   6   7   8   9  class  soil_type  wa\n",
       "0  7  2  0  3  4  1  17  18  11  17    5.0         28   0\n",
       "1  7  3  0  3  4  1  17  18  11  17    5.0         28   0\n",
       "2  9  7  2  3  6  8  18  18  10  17    2.0         11   0"
      ]
     },
     "execution_count": 22,
     "metadata": {},
     "output_type": "execute_result"
    }
   ],
   "source": [
    "# del df['tag']\n",
    "df_new.head(3)"
   ]
  },
  {
   "cell_type": "code",
   "execution_count": 23,
   "metadata": {},
   "outputs": [
    {
     "name": "stdout",
     "output_type": "stream",
     "text": [
      "Class : 1.0 | count : 211840\n",
      "Class : 2.0 | count : 283301\n",
      "Class : 3.0 | count : 35754\n",
      "Class : 4.0 | count : 2747\n",
      "Class : 5.0 | count : 9493\n",
      "Class : 6.0 | count : 17367\n",
      "Class : 7.0 | count : 20510\n"
     ]
    }
   ],
   "source": [
    "for i in set(df_new['class']) :\n",
    "    _list = list(df_new['class'])\n",
    "    c = _list.count(i)\n",
    "    print('Class :', i,'| count :',c )"
   ]
  },
  {
   "cell_type": "code",
   "execution_count": 24,
   "metadata": {},
   "outputs": [],
   "source": [
    "df_1 = df_new.loc[df_new['class'].isin([anomaly_class])]\n",
    "df_2 = df_new.loc[df_new['class'].isin([normal_class])]\n",
    "df_new_1 = df_1.append(df_2,ignore_index=True)\n"
   ]
  },
  {
   "cell_type": "code",
   "execution_count": 25,
   "metadata": {},
   "outputs": [],
   "source": [
    "features = list(df_new_1.columns)\n",
    "features.remove('class')"
   ]
  },
  {
   "cell_type": "code",
   "execution_count": null,
   "metadata": {},
   "outputs": [],
   "source": []
  },
  {
   "cell_type": "code",
   "execution_count": null,
   "metadata": {},
   "outputs": [],
   "source": []
  },
  {
   "cell_type": "code",
   "execution_count": 25,
   "metadata": {},
   "outputs": [
    {
     "data": {
      "text/plain": [
       "Index([0, 1, 2, 3, 4, 5, 6, 7, 8, 9, 'soil_type', 'wa', 'tag'], dtype='object')"
      ]
     },
     "execution_count": 25,
     "metadata": {},
     "output_type": "execute_result"
    }
   ],
   "source": [
    "\n"
   ]
  },
  {
   "cell_type": "code",
   "execution_count": 31,
   "metadata": {},
   "outputs": [],
   "source": [
    "def replace_attr_with_id(row, attr, val2id_dict):\n",
    "    val = row[attr]\n",
    "    if val not in val2id_dict.keys():\n",
    "        print(attr,val)\n",
    "        return None\n",
    "    else:\n",
    "        return val2id_dict[val]\n",
    "\n",
    "# -------------------- #\n",
    "def convert_to_ids(df, cols , save_dir):\n",
    "    domain_dims_dict = {}\n",
    "    \n",
    "    _idx = 0\n",
    "    for col in cols:\n",
    "        print(col)\n",
    "        vals = list(set(df[col]))\n",
    "        print('count ',len(vals))\n",
    "        id2val_dict = {e[0]: e[1] for e in enumerate(vals, 0)}\n",
    "        file_name = str(col) +'_id2val.pkl'\n",
    "        with open( os.path.join(save_dir,file_name), 'wb') as f:\n",
    "            pickle.dump(id2val_dict, f, pickle.HIGHEST_PROTOCOL)\n",
    "\n",
    "        val2id_dict = {v: k for k, v in id2val_dict.items()}\n",
    "        # replace\n",
    "        df[col] = df.apply(\n",
    "            replace_attr_with_id,\n",
    "            axis=1,\n",
    "            args=(\n",
    "                col,\n",
    "                val2id_dict,\n",
    "            )\n",
    "        )\n",
    "        domain_dims_dict[_idx] = len(id2val_dict)\n",
    "        _idx += 1 \n",
    "    domain_dims = list(domain_dims_dict.values())\n",
    "    domain_dims_res = domain_dims_dict\n",
    "\n",
    "    domain_dims =  np.array(domain_dims)\n",
    "    print(domain_dims)\n",
    "    print(domain_dims_res)\n",
    "    file = 'domain_dims.pkl'\n",
    "    f_path = os.path.join(save_dir, file)\n",
    "\n",
    "    with open(f_path,'wb') as fh:\n",
    "        pickle.dump(\n",
    "            domain_dims_res,\n",
    "            fh,\n",
    "            pickle.HIGHEST_PROTOCOL\n",
    "        )\n",
    "    return df"
   ]
  },
  {
   "cell_type": "code",
   "execution_count": null,
   "metadata": {},
   "outputs": [],
   "source": []
  },
  {
   "cell_type": "code",
   "execution_count": 27,
   "metadata": {},
   "outputs": [],
   "source": []
  },
  {
   "cell_type": "code",
   "execution_count": 28,
   "metadata": {},
   "outputs": [],
   "source": []
  },
  {
   "cell_type": "code",
   "execution_count": 27,
   "metadata": {},
   "outputs": [
    {
     "data": {
      "text/plain": [
       "[0, 1, 2, 3, 4, 5, 6, 7, 8, 9, 'soil_type', 'wa']"
      ]
     },
     "execution_count": 27,
     "metadata": {},
     "output_type": "execute_result"
    }
   ],
   "source": [
    "features"
   ]
  },
  {
   "cell_type": "code",
   "execution_count": 28,
   "metadata": {},
   "outputs": [],
   "source": [
    "# ------------------------------------- #\n",
    "# convert all values to int\n",
    "\n",
    "for c in features:\n",
    "    df_new_1[c] = df_new_1[c].astype(str)  "
   ]
  },
  {
   "cell_type": "code",
   "execution_count": 29,
   "metadata": {},
   "outputs": [
    {
     "data": {
      "text/html": [
       "<div>\n",
       "<style scoped>\n",
       "    .dataframe tbody tr th:only-of-type {\n",
       "        vertical-align: middle;\n",
       "    }\n",
       "\n",
       "    .dataframe tbody tr th {\n",
       "        vertical-align: top;\n",
       "    }\n",
       "\n",
       "    .dataframe thead th {\n",
       "        text-align: right;\n",
       "    }\n",
       "</style>\n",
       "<table border=\"1\" class=\"dataframe\">\n",
       "  <thead>\n",
       "    <tr style=\"text-align: right;\">\n",
       "      <th></th>\n",
       "      <th>0</th>\n",
       "      <th>1</th>\n",
       "      <th>2</th>\n",
       "      <th>3</th>\n",
       "      <th>4</th>\n",
       "      <th>5</th>\n",
       "      <th>6</th>\n",
       "      <th>7</th>\n",
       "      <th>8</th>\n",
       "      <th>9</th>\n",
       "      <th>class</th>\n",
       "      <th>soil_type</th>\n",
       "      <th>wa</th>\n",
       "    </tr>\n",
       "  </thead>\n",
       "  <tbody>\n",
       "    <tr>\n",
       "      <th>0</th>\n",
       "      <td>1</td>\n",
       "      <td>17</td>\n",
       "      <td>2</td>\n",
       "      <td>0</td>\n",
       "      <td>4</td>\n",
       "      <td>0</td>\n",
       "      <td>15</td>\n",
       "      <td>18</td>\n",
       "      <td>13</td>\n",
       "      <td>0</td>\n",
       "      <td>4.0</td>\n",
       "      <td>16</td>\n",
       "      <td>3</td>\n",
       "    </tr>\n",
       "    <tr>\n",
       "      <th>1</th>\n",
       "      <td>1</td>\n",
       "      <td>19</td>\n",
       "      <td>1</td>\n",
       "      <td>0</td>\n",
       "      <td>4</td>\n",
       "      <td>0</td>\n",
       "      <td>16</td>\n",
       "      <td>18</td>\n",
       "      <td>12</td>\n",
       "      <td>0</td>\n",
       "      <td>4.0</td>\n",
       "      <td>16</td>\n",
       "      <td>3</td>\n",
       "    </tr>\n",
       "    <tr>\n",
       "      <th>2</th>\n",
       "      <td>1</td>\n",
       "      <td>2</td>\n",
       "      <td>2</td>\n",
       "      <td>0</td>\n",
       "      <td>4</td>\n",
       "      <td>0</td>\n",
       "      <td>17</td>\n",
       "      <td>17</td>\n",
       "      <td>10</td>\n",
       "      <td>0</td>\n",
       "      <td>4.0</td>\n",
       "      <td>16</td>\n",
       "      <td>3</td>\n",
       "    </tr>\n",
       "    <tr>\n",
       "      <th>3</th>\n",
       "      <td>1</td>\n",
       "      <td>4</td>\n",
       "      <td>3</td>\n",
       "      <td>0</td>\n",
       "      <td>4</td>\n",
       "      <td>0</td>\n",
       "      <td>18</td>\n",
       "      <td>17</td>\n",
       "      <td>9</td>\n",
       "      <td>0</td>\n",
       "      <td>4.0</td>\n",
       "      <td>16</td>\n",
       "      <td>3</td>\n",
       "    </tr>\n",
       "    <tr>\n",
       "      <th>4</th>\n",
       "      <td>1</td>\n",
       "      <td>4</td>\n",
       "      <td>4</td>\n",
       "      <td>0</td>\n",
       "      <td>4</td>\n",
       "      <td>0</td>\n",
       "      <td>18</td>\n",
       "      <td>16</td>\n",
       "      <td>7</td>\n",
       "      <td>0</td>\n",
       "      <td>4.0</td>\n",
       "      <td>16</td>\n",
       "      <td>3</td>\n",
       "    </tr>\n",
       "    <tr>\n",
       "      <th>5</th>\n",
       "      <td>1</td>\n",
       "      <td>3</td>\n",
       "      <td>6</td>\n",
       "      <td>0</td>\n",
       "      <td>4</td>\n",
       "      <td>0</td>\n",
       "      <td>18</td>\n",
       "      <td>14</td>\n",
       "      <td>5</td>\n",
       "      <td>1</td>\n",
       "      <td>4.0</td>\n",
       "      <td>9</td>\n",
       "      <td>3</td>\n",
       "    </tr>\n",
       "    <tr>\n",
       "      <th>6</th>\n",
       "      <td>1</td>\n",
       "      <td>2</td>\n",
       "      <td>3</td>\n",
       "      <td>0</td>\n",
       "      <td>4</td>\n",
       "      <td>0</td>\n",
       "      <td>17</td>\n",
       "      <td>16</td>\n",
       "      <td>9</td>\n",
       "      <td>1</td>\n",
       "      <td>4.0</td>\n",
       "      <td>16</td>\n",
       "      <td>3</td>\n",
       "    </tr>\n",
       "    <tr>\n",
       "      <th>7</th>\n",
       "      <td>1</td>\n",
       "      <td>1</td>\n",
       "      <td>1</td>\n",
       "      <td>0</td>\n",
       "      <td>4</td>\n",
       "      <td>0</td>\n",
       "      <td>17</td>\n",
       "      <td>17</td>\n",
       "      <td>11</td>\n",
       "      <td>1</td>\n",
       "      <td>4.0</td>\n",
       "      <td>16</td>\n",
       "      <td>3</td>\n",
       "    </tr>\n",
       "    <tr>\n",
       "      <th>8</th>\n",
       "      <td>1</td>\n",
       "      <td>3</td>\n",
       "      <td>6</td>\n",
       "      <td>0</td>\n",
       "      <td>4</td>\n",
       "      <td>0</td>\n",
       "      <td>18</td>\n",
       "      <td>14</td>\n",
       "      <td>6</td>\n",
       "      <td>1</td>\n",
       "      <td>4.0</td>\n",
       "      <td>16</td>\n",
       "      <td>3</td>\n",
       "    </tr>\n",
       "    <tr>\n",
       "      <th>9</th>\n",
       "      <td>1</td>\n",
       "      <td>1</td>\n",
       "      <td>0</td>\n",
       "      <td>0</td>\n",
       "      <td>4</td>\n",
       "      <td>1</td>\n",
       "      <td>17</td>\n",
       "      <td>18</td>\n",
       "      <td>11</td>\n",
       "      <td>1</td>\n",
       "      <td>4.0</td>\n",
       "      <td>16</td>\n",
       "      <td>3</td>\n",
       "    </tr>\n",
       "  </tbody>\n",
       "</table>\n",
       "</div>"
      ],
      "text/plain": [
       "   0   1  2  3  4  5   6   7   8  9  class soil_type wa\n",
       "0  1  17  2  0  4  0  15  18  13  0    4.0        16  3\n",
       "1  1  19  1  0  4  0  16  18  12  0    4.0        16  3\n",
       "2  1   2  2  0  4  0  17  17  10  0    4.0        16  3\n",
       "3  1   4  3  0  4  0  18  17   9  0    4.0        16  3\n",
       "4  1   4  4  0  4  0  18  16   7  0    4.0        16  3\n",
       "5  1   3  6  0  4  0  18  14   5  1    4.0         9  3\n",
       "6  1   2  3  0  4  0  17  16   9  1    4.0        16  3\n",
       "7  1   1  1  0  4  0  17  17  11  1    4.0        16  3\n",
       "8  1   3  6  0  4  0  18  14   6  1    4.0        16  3\n",
       "9  1   1  0  0  4  1  17  18  11  1    4.0        16  3"
      ]
     },
     "execution_count": 29,
     "metadata": {},
     "output_type": "execute_result"
    }
   ],
   "source": [
    "df_new_1.head(10)"
   ]
  },
  {
   "cell_type": "code",
   "execution_count": 32,
   "metadata": {},
   "outputs": [
    {
     "name": "stdout",
     "output_type": "stream",
     "text": [
      "0\n",
      "count  15\n",
      "1\n",
      "count  20\n",
      "2\n",
      "count  20\n",
      "3\n",
      "count  20\n",
      "4\n",
      "count  20\n",
      "5\n",
      "count  20\n",
      "6\n",
      "count  18\n",
      "7\n",
      "count  19\n",
      "8\n",
      "count  20\n",
      "9\n",
      "count  20\n",
      "soil_type\n",
      "count  38\n",
      "wa\n",
      "count  4\n",
      "[15 20 20 20 20 20 18 19 20 20 38  4]\n",
      "{0: 15, 1: 20, 2: 20, 3: 20, 4: 20, 5: 20, 6: 18, 7: 19, 8: 20, 9: 20, 10: 38, 11: 4}\n"
     ]
    }
   ],
   "source": [
    "df_new_1 = convert_to_ids(\n",
    "    df_new_1, \n",
    "    features , \n",
    "    save_dir\n",
    ")"
   ]
  },
  {
   "cell_type": "markdown",
   "metadata": {},
   "source": [
    "# ADD in ID"
   ]
  },
  {
   "cell_type": "code",
   "execution_count": 33,
   "metadata": {},
   "outputs": [],
   "source": [
    "# add in id\n",
    "new_col = list(range(1,len(df_new_1)+1))\n",
    "try: \n",
    "    df_new_1.insert(\n",
    "        loc=0, \n",
    "        column='id', \n",
    "        value=new_col\n",
    "    )\n",
    "except:\n",
    "    pass"
   ]
  },
  {
   "cell_type": "code",
   "execution_count": 34,
   "metadata": {},
   "outputs": [
    {
     "data": {
      "text/plain": [
       "Index(['id', 0, 1, 2, 3, 4, 5, 6, 7, 8, 9, 'class', 'soil_type', 'wa'], dtype='object')"
      ]
     },
     "execution_count": 34,
     "metadata": {},
     "output_type": "execute_result"
    }
   ],
   "source": [
    "df_new_1.columns"
   ]
  },
  {
   "cell_type": "code",
   "execution_count": 36,
   "metadata": {},
   "outputs": [
    {
     "data": {
      "text/plain": [
       "283301"
      ]
     },
     "execution_count": 36,
     "metadata": {},
     "output_type": "execute_result"
    }
   ],
   "source": [
    "\n",
    "normal_df = pd.DataFrame(df_new_1[df_new_1['class']==normal_class],copy=True)\n",
    "len(normal_df)"
   ]
  },
  {
   "cell_type": "code",
   "execution_count": 38,
   "metadata": {},
   "outputs": [
    {
     "data": {
      "text/plain": [
       "2747"
      ]
     },
     "execution_count": 38,
     "metadata": {},
     "output_type": "execute_result"
    }
   ],
   "source": [
    "# get anomalies\n",
    "tmp_df = pd.DataFrame(\n",
    "    df_new_1[df_new_1['class'].isin([anomaly_class])],\n",
    "    copy=True\n",
    ")\n",
    "\n",
    "all_anomalies_df = pd.DataFrame(\n",
    "    tmp_df,\n",
    "    copy=True\n",
    ")\n",
    "len(all_anomalies_df)"
   ]
  },
  {
   "cell_type": "markdown",
   "metadata": {},
   "source": [
    "# First we have anomalies\n",
    "# Then we have normal samples"
   ]
  },
  {
   "cell_type": "code",
   "execution_count": 39,
   "metadata": {},
   "outputs": [],
   "source": [
    "# ----------------- \n",
    "\n",
    "anomaly_ids = list(all_anomalies_df['id'])\n",
    "normal_ids = list(normal_df['id'])\n",
    "\n",
    "# ----------------- "
   ]
  },
  {
   "cell_type": "code",
   "execution_count": 49,
   "metadata": {},
   "outputs": [],
   "source": [
    "data_x_file = 'data.pkl'\n",
    "\n",
    "values_df = pd.DataFrame(df_new_1,copy=True)\n",
    "del values_df['class']\n",
    "del values_df['id']\n",
    "data_x = values_df.values\n",
    "\n",
    "x = [data_x, normal_ids, anomaly_ids]\n",
    "\n",
    "with open(data_x_file, 'wb') as fh:\n",
    "    pickle.dump(\n",
    "        x, \n",
    "        fh, \n",
    "        pickle.HIGHEST_PROTOCOL\n",
    "    )    \n",
    "\n"
   ]
  },
  {
   "cell_type": "markdown",
   "metadata": {},
   "source": [
    "# ------------------------------------------------------- #"
   ]
  }
 ],
 "metadata": {
  "kernelspec": {
   "display_name": "Python 3",
   "language": "python",
   "name": "python3"
  },
  "language_info": {
   "codemirror_mode": {
    "name": "ipython",
    "version": 3
   },
   "file_extension": ".py",
   "mimetype": "text/x-python",
   "name": "python",
   "nbconvert_exporter": "python",
   "pygments_lexer": "ipython3",
   "version": "3.6.8"
  }
 },
 "nbformat": 4,
 "nbformat_minor": 4
}
