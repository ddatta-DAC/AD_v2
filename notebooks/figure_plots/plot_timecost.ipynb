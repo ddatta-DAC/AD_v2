{
 "cells": [
  {
   "cell_type": "code",
   "execution_count": 7,
   "metadata": {},
   "outputs": [],
   "source": [
    "import seaborn as sns\n",
    "import matplotlib.pyplot as plt\n",
    "import pandas as pd\n",
    "import numpy as np\n",
    "import os\n",
    "import sys\n"
   ]
  },
  {
   "cell_type": "markdown",
   "metadata": {},
   "source": [
    "19.526702404022217 + (0.1885664463043213 + 0.17815709114074707 +0.17934274673461914)/3"
   ]
  },
  {
   "cell_type": "code",
   "execution_count": 18,
   "metadata": {},
   "outputs": [
    {
     "data": {
      "text/plain": [
       "40.466980616251625"
      ]
     },
     "execution_count": 18,
     "metadata": {},
     "output_type": "execute_result"
    }
   ],
   "source": [
    "40.43255853652954 + (0.051680803298950195 + 0.025041818618774414 + 0.026543617248535156)/3"
   ]
  },
  {
   "cell_type": "code",
   "execution_count": 5,
   "metadata": {},
   "outputs": [],
   "source": [
    "# Comprex condition APE  MEAD\n",
    "china_export = [ 6859, 95.68108765284221, 1817.6080849170685 ,447.3870476086934]\n",
    "china_import = [ 1322, 46.543524424235024, 161.31839776039124 ,42.61926635106405]\n",
    "us_import    = [ 6185, 211.68051401774088, 1038.7314694722493 , 296.37213683128357]\n",
    "peru_export  = [ 1299, 2.454895814259847, 19.70872449874878 , 40.466980616251625 ]\n"
   ]
  },
  {
   "cell_type": "code",
   "execution_count": 4,
   "metadata": {},
   "outputs": [
    {
     "data": {
      "text/plain": [
       "6859"
      ]
     },
     "execution_count": 4,
     "metadata": {},
     "output_type": "execute_result"
    }
   ],
   "source": [
    "6344+515\n"
   ]
  },
  {
   "cell_type": "code",
   "execution_count": 9,
   "metadata": {},
   "outputs": [
    {
     "data": {
      "image/png": "[encoded data removed]",
      "text/plain": [
       "<Figure size 432x288 with 1 Axes>"
      ]
     },
     "metadata": {
      "needs_background": "light"
     },
     "output_type": "display_data"
    }
   ],
   "source": [
    "barWidth = 0.2\n",
    "plt.figure(figsize=[6,4])\n",
    "# plt.xlim([-1,6.5])\n",
    "# plt.ylim([0.7,1.005])\n",
    "# set height of bar\n",
    "bars1 =  china_export\n",
    "bars2 =  china_import\n",
    "bars3 =  us_import\n",
    "bars4 =  peru_export\n",
    "# Set position of bar on X axis\n",
    "r1 = np.arange(len(bars1))\n",
    "r2 = [x + barWidth for x in r1]\n",
    "r3 = [x + barWidth for x in r2]\n",
    "r4 = [x + barWidth for x in r3] \n",
    "# Make the plot\n",
    "plt.bar(r1, bars1, color='r', width=barWidth, edgecolor='white', label='CE')\n",
    "plt.bar(r2, bars2, color='b', width=barWidth, edgecolor='white', label='CI')\n",
    "plt.bar(r3, bars3, color='g', width=barWidth, edgecolor='white', label='USI')\n",
    "plt.bar(r4, bars4, color='m', width=barWidth, edgecolor='white', label='PE')\n",
    "\n",
    "# Add xticks on the middle of the group bars\n",
    "plt.xlabel('Method', fontsize=15)\n",
    "plt.ylabel('Time\\n (in seconds)', fontsize=15)\n",
    "plt.xticks([r + barWidth for r in range(len(bars1))], ['Comprex','Condition','APE','MEAD'],fontsize=14 )\n",
    "\n",
    "plt.yticks(fontsize=14)\n",
    "# Create legend & Show graphic\n",
    "plt.legend(loc='best',fontsize=14)\n",
    "plt.tight_layout()\n",
    "plt.savefig('Timecomplexity.pdf')\n",
    "plt.show()\n"
   ]
  },
  {
   "cell_type": "code",
   "execution_count": null,
   "metadata": {},
   "outputs": [],
   "source": []
  }
 ],
 "metadata": {
  "kernelspec": {
   "display_name": "Python 3",
   "language": "python",
   "name": "python3"
  },
  "language_info": {
   "codemirror_mode": {
    "name": "ipython",
    "version": 3
   },
   "file_extension": ".py",
   "mimetype": "text/x-python",
   "name": "python",
   "nbconvert_exporter": "python",
   "pygments_lexer": "ipython3",
   "version": "3.6.8"
  }
 },
 "nbformat": 4,
 "nbformat_minor": 4
}
