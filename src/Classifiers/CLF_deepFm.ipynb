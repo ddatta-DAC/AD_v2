{
 "cells": [
  {
   "cell_type": "code",
   "execution_count": 1,
   "metadata": {},
   "outputs": [],
   "source": [
    "import pandas as pd\n",
    "import numpy as np\n",
    "from torch import nn\n",
    "import torch\n",
    "from torch import tensor\n",
    " \n",
    "import multiprocessing\n",
    "from torch.utils.data import DataLoader\n",
    "from torch.utils.data import Dataset\n",
    "from torch.utils.data import RandomSampler, SequentialSampler\n",
    "import yaml\n",
    "import pickle\n",
    "import torch\n",
    "import torch.nn as nn\n",
    "\n",
    "\n",
    "class clf_dfm(nn.Module):\n",
    "    \n",
    "    def __init__(\n",
    "        self,\n",
    "        num_domains,          # number of feilds\n",
    "        inp_emb_dimensions,   # emb dimension of each of the \n",
    "        fm_inp_dim = 64,\n",
    "        dnn_layer_dimensions = [512,256]  #  FNN after concatenated embedding\n",
    "    ):\n",
    "        \n",
    "        super(clf_dfm, self).__init__()\n",
    "        \n",
    "        self.dnn_fc = nn.ModuleList()                      # Fully connected layers\n",
    "        self.dnn_num_layers = len(dnn_layer_dimensions)+1  # Number of fully connected layers\n",
    "        \n",
    "        for i in range(self.dnn_num_layers):    \n",
    "            if i == 0: \n",
    "                inp_dim = inp_emb_dimensions * num_domains #  Concatenation\n",
    "            if i == self.dnn_num_layers-1:\n",
    "                op_dim = 1  # Classifier output\n",
    "            else:\n",
    "                op_dim = dnn_layer_dimensions[i] \n",
    "            self.dnn_fc.append( \n",
    "                nn.Linear(inp_dim, op_dim)\n",
    "            )\n",
    "            inp_dim = op_dim\n",
    "            \n",
    "        self.fc2 = nn.Linear(2,2,bias=False)         \n",
    "        \n",
    "        self.num_domains = num_domains\n",
    "        self.xform_fm_1 = nn.ModuleList(\n",
    "            [\n",
    "                nn.Linear(inp_emb_dimensions,fm_inp_dim) \n",
    "             for _ in range(self.num_domains)\n",
    "            ]\n",
    "        )\n",
    "        print(self.xform_fm_1)\n",
    "        \n",
    "        return\n",
    "    \n",
    "    \n",
    "    def forward(self, input_x):\n",
    "        '''\n",
    "        input x should be of shape [Batch, num_domains, emb_vec]\n",
    "        '''\n",
    "        \n",
    "        # ----- DNN ------- #\n",
    "        x_dnn = input_x.view(-1,12)\n",
    "        \n",
    "        for i in range(self.dnn_num_layers):    \n",
    "            x_dnn = self.dnn_fc[i](x_dnn)\n",
    "        \n",
    "        print(x_dnn.shape)\n",
    "        # ----- FM --------- #\n",
    "        \n",
    "        fm_input = input_x\n",
    "        # transform inner products with a MLP\n",
    "        fm_input = torch.chunk(\n",
    "            fm_input,\n",
    "            self.num_domains,\n",
    "            dim = 1\n",
    "        )\n",
    "        \n",
    "        print(fm_input[0].shape, len(fm_input))\n",
    "        x_fm_input = []\n",
    "        \n",
    "        for i in range(self.num_domains):\n",
    "            x_fm_input.append(\n",
    "                self.xform_fm_1[i]\n",
    "                (fm_input[i]).squeeze(1) \n",
    "            )\n",
    "        x_fm_input = torch.stack(\n",
    "             x_fm_input, dim=2   \n",
    "        )    \n",
    "        print(x_fm_input.shape)      \n",
    "        \n",
    "        square_of_sum = torch.pow(torch.sum(x_fm_input, dim=1, keepdim=True), 2)\n",
    "        sum_of_square = torch.sum(x_fm_input * x_fm_input, dim=1, keepdim=True)\n",
    "        cross_term = square_of_sum - sum_of_square\n",
    "        cross_term = 0.5 * torch.sum(cross_term, dim=2, keepdim=False)\n",
    "        print(cross_term.shape)\n",
    "        x2 = torch.cat ([x_dnn, cross_term],dim = 1)\n",
    "        op = self.fc2(x2)\n",
    "        print(op.shape)\n",
    "        op = torch.nn.functional.tanh(op)\n",
    "        op = torch.nn.functional.softmax (op)\n",
    "        return op\n",
    "    \n",
    "        "
   ]
  },
  {
   "cell_type": "code",
   "execution_count": 13,
   "metadata": {},
   "outputs": [
    {
     "name": "stdout",
     "output_type": "stream",
     "text": [
      "ModuleList(\n",
      "  (0): Linear(in_features=4, out_features=8, bias=True)\n",
      "  (1): Linear(in_features=4, out_features=8, bias=True)\n",
      "  (2): Linear(in_features=4, out_features=8, bias=True)\n",
      ")\n"
     ]
    }
   ],
   "source": [
    "model =  clf_dfm(\n",
    "    num_domains = 3,\n",
    "    inp_emb_dimensions = 4,\n",
    "    fm_inp_dim= 8,\n",
    "    dnn_layer_dimensions = [5,6]\n",
    ")"
   ]
  },
  {
   "cell_type": "code",
   "execution_count": 4,
   "metadata": {},
   "outputs": [],
   "source": []
  },
  {
   "cell_type": "code",
   "execution_count": 14,
   "metadata": {},
   "outputs": [
    {
     "name": "stdout",
     "output_type": "stream",
     "text": [
      "torch.Size([10, 1])\n",
      "torch.Size([10, 1, 4]) 3\n",
      "torch.Size([10, 8, 3])\n",
      "torch.Size([10, 1])\n",
      "torch.Size([10, 2])\n"
     ]
    },
    {
     "name": "stderr",
     "output_type": "stream",
     "text": [
      "/home/ddatta/anaconda3/envs/tmp_venv/lib/python3.6/site-packages/torch/nn/functional.py:995: UserWarning: nn.functional.tanh is deprecated. Use torch.tanh instead.\n",
      "  warnings.warn(\"nn.functional.tanh is deprecated. Use torch.tanh instead.\")\n",
      "/home/ddatta/anaconda3/envs/tmp_venv/lib/python3.6/site-packages/ipykernel_launcher.py:87: UserWarning: Implicit dimension choice for softmax has been deprecated. Change the call to include dim=X as an argument.\n"
     ]
    },
    {
     "data": {
      "text/plain": [
       "tensor([[0.4964, 0.5036],\n",
       "        [0.4961, 0.5039],\n",
       "        [0.4980, 0.5020],\n",
       "        [0.4962, 0.5038],\n",
       "        [0.4968, 0.5032],\n",
       "        [0.4976, 0.5024],\n",
       "        [0.4976, 0.5024],\n",
       "        [0.4947, 0.5053],\n",
       "        [0.4952, 0.5048],\n",
       "        [0.4967, 0.5033]], grad_fn=<SoftmaxBackward>)"
      ]
     },
     "execution_count": 14,
     "metadata": {},
     "output_type": "execute_result"
    }
   ],
   "source": [
    "x = torch.FloatTensor(np.random.random([10,3,4]))\n",
    "model(x)"
   ]
  },
  {
   "cell_type": "code",
   "execution_count": null,
   "metadata": {},
   "outputs": [],
   "source": []
  },
  {
   "cell_type": "code",
   "execution_count": 15,
   "metadata": {},
   "outputs": [],
   "source": [
    "x1 = np.random.random([1,3,4])\n",
    "fm_input = x1\n",
    "\n",
    "square_of_sum = np.power(\n",
    "    np.sum(fm_input, axis=1, keepdims=True), \n",
    "    2\n",
    ")\n",
    "sum_of_square = np.sum(fm_input * fm_input, axis=1, keepdims=True)\n",
    "cross_term = square_of_sum - sum_of_square\n",
    "cross_term = 0.5 * np.sum(cross_term, axis=2, keepdims=False)\n"
   ]
  },
  {
   "cell_type": "code",
   "execution_count": 16,
   "metadata": {},
   "outputs": [
    {
     "data": {
      "text/plain": [
       "array([[[0.10728022, 0.04979349, 0.50967466, 0.12437399],\n",
       "        [0.37922166, 0.51520702, 0.43378518, 0.4104865 ],\n",
       "        [0.70945453, 0.46002874, 0.43952501, 0.06980309]]])"
      ]
     },
     "execution_count": 16,
     "metadata": {},
     "output_type": "execute_result"
    }
   ],
   "source": [
    "fm_input"
   ]
  },
  {
   "cell_type": "code",
   "execution_count": 17,
   "metadata": {},
   "outputs": [
    {
     "data": {
      "text/plain": [
       "array([[1.39555665]])"
      ]
     },
     "execution_count": 17,
     "metadata": {},
     "output_type": "execute_result"
    }
   ],
   "source": [
    "cross_term"
   ]
  },
  {
   "cell_type": "code",
   "execution_count": 18,
   "metadata": {},
   "outputs": [
    {
     "data": {
      "text/plain": [
       "array([[[0.65864384, 0.47954411, 0.64112008, 0.18884053]]])"
      ]
     },
     "execution_count": 18,
     "metadata": {},
     "output_type": "execute_result"
    }
   ],
   "source": [
    "sum_of_square"
   ]
  },
  {
   "cell_type": "code",
   "execution_count": 71,
   "metadata": {},
   "outputs": [
    {
     "data": {
      "text/plain": [
       "array([0.19505893, 0.19231236, 0.94403774, 0.89043176])"
      ]
     },
     "execution_count": 71,
     "metadata": {},
     "output_type": "execute_result"
    }
   ],
   "source": [
    "x1[0][0]"
   ]
  },
  {
   "cell_type": "code",
   "execution_count": 72,
   "metadata": {},
   "outputs": [],
   "source": [
    "r = 0\n",
    "\n",
    "for i in range(3):\n",
    "    for j in range(i+1,3):\n",
    "        r += np.dot(x1[0][i],x1[0][j])\n",
    "    "
   ]
  },
  {
   "cell_type": "code",
   "execution_count": 74,
   "metadata": {},
   "outputs": [
    {
     "data": {
      "text/plain": [
       "3.1558231612885437"
      ]
     },
     "execution_count": 74,
     "metadata": {},
     "output_type": "execute_result"
    }
   ],
   "source": [
    "r"
   ]
  },
  {
   "cell_type": "code",
   "execution_count": null,
   "metadata": {},
   "outputs": [],
   "source": []
  }
 ],
 "metadata": {
  "kernelspec": {
   "display_name": "Python 3",
   "language": "python",
   "name": "python3"
  },
  "language_info": {
   "codemirror_mode": {
    "name": "ipython",
    "version": 3
   },
   "file_extension": ".py",
   "mimetype": "text/x-python",
   "name": "python",
   "nbconvert_exporter": "python",
   "pygments_lexer": "ipython3",
   "version": "3.6.9"
  }
 },
 "nbformat": 4,
 "nbformat_minor": 4
}
