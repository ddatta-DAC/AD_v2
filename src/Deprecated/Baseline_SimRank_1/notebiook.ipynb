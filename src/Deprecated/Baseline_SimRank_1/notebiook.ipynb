{
 "cells": [
  {
   "cell_type": "code",
   "execution_count": 1,
   "metadata": {},
   "outputs": [
    {
     "name": "stdout",
     "output_type": "stream",
     "text": [
      "INFO: Pandarallel will run on 40 workers.\n",
      "INFO: Pandarallel will use Memory file system to transfer data between the main process and workers.\n"
     ]
    }
   ],
   "source": [
    "import pandas as pd\n",
    "import numpy as np\n",
    "import os\n",
    "import sys\n",
    "sys.path.append('./..')\n",
    "sys.path.append('./../..')\n",
    "from joblib import Parallel, delayed\n",
    "import pickle\n",
    "import argparse\n",
    "import multiprocessing\n",
    "from pandarallel import pandarallel\n",
    "pandarallel.initialize()\n",
    "import networkx as nx"
   ]
  },
  {
   "cell_type": "code",
   "execution_count": 2,
   "metadata": {},
   "outputs": [],
   "source": [
    "try:\n",
    "    from src.data_fetcher import data_fetcher_v2 as data_fetcher\n",
    "except:\n",
    "    from data_fetcher import data_fetcher_v2 as data_fetcher\n",
    "\n",
    "try:\n",
    "    from . import network_similarity_v1 as NS\n",
    "except:\n",
    "    import network_similarity_v1 as NS\n",
    "\n",
    "\n",
    "# --------------------------------------------\n",
    "\n",
    "DIR = None\n",
    "model_use_data_DIR = 'model_use_data'\n",
    "TARGET_DATA_SOURCE = './../../AD_system_output'\n",
    "\n",
    "def setup():\n",
    "    global DIR\n",
    "    global model_use_data_DIR\n",
    "    global TARGET_DATA_SOURCE\n",
    "    NS.initialize(DIR, model_use_data_DIR)\n",
    "\n",
    "\n",
    "# ---------------\n",
    "# Algorithm ::\n",
    "# Create a network\n",
    "# Calculate SimRank between the Transaction nodes\n",
    "#\n",
    "# With partially labelled data - Train a classifier\n",
    "# Classify points on the unlabelled data (transaction instances : where features are entities + anomaly scores )\n",
    "# Set final label as\n",
    "# Sign ( lambda * Weighted(similarity based) of labels of its K nearest (labelled) neighbors + (1-lambda) predicted label )\n",
    "# ----------------\n",
    "\n",
    "def get_training_data(DIR):\n",
    "    SOURCE_DATA_DIR = './../../generated_data_v1'\n",
    "    data = data_fetcher.get_train_x_csv(SOURCE_DATA_DIR, DIR)\n",
    "    return data\n",
    "\n",
    "\n",
    "def get_domain_dims(DIR):\n",
    "    with open(\n",
    "            os.path.join(\n",
    "                './../../generated_data_v1/',\n",
    "                DIR,\n",
    "                'domain_dims.pkl'\n",
    "            ), 'rb') as fh:\n",
    "        domain_dims = pickle.load(fh)\n",
    "    return domain_dims\n",
    "\n",
    "\n",
    "def read_target_data():\n",
    "    global DIR\n",
    "    global TARGET_DATA_SOURCE\n",
    "\n",
    "    csv_f_name = 'scored_test_data.csv'\n",
    "    df = pd.read_csv(\n",
    "        os.path.join(\n",
    "            TARGET_DATA_SOURCE,\n",
    "            DIR,\n",
    "            csv_f_name), index_col=None\n",
    "    )\n",
    "    return df\n",
    "\n",
    "# -----------------------------------\n",
    "\n",
    "def get_tranasaction_pair_similarity():\n",
    "    import networkx as nx\n",
    "\n",
    "    global TARGET_DATA_SOURCE\n",
    "    domain_dims = get_domain_dims(DIR)\n",
    "    df = get_training_data(DIR)\n",
    "    G = NS.get_initial_graph(df, domain_dims)\n",
    "    test_data_df = read_target_data(\n",
    "        TARGET_DATA_SOURCE,\n",
    "        DIR\n",
    "    )\n",
    "    G = NS.get_graph_W_transaction_nodes(G,test_data_df)\n",
    "    print(nx.simrank_similarity(G,10,100))\n",
    "    return\n",
    "\n",
    "# -----------------------------------"
   ]
  },
  {
   "cell_type": "code",
   "execution_count": 4,
   "metadata": {},
   "outputs": [
    {
     "name": "stdout",
     "output_type": "stream",
     "text": [
      "model_use_data/us_import1\n",
      "Mapping to serial ids file :: model_use_data/us_import1/Serialized_Mapping.csv\n",
      "model_use_data/us_import1/Serialized_Mapping.csv\n",
      "['Carrier', 'ConsigneePanjivaID', 'HSCode', 'PortOfLading', 'PortOfUnlading', 'ShipmentDestination', 'ShipmentOrigin', 'ShipperPanjivaID']\n",
      "Path ::  model_use_data/us_import1/nodeObj_dict_00.pkl\n",
      "{'Carrier': 655, 'ConsigneePanjivaID': 7569, 'HSCode': 1510, 'PortOfLading': 266, 'PortOfUnlading': 68, 'ShipmentDestination': 131, 'ShipmentOrigin': 116, 'ShipperPanjivaID': 9415}\n",
      "['HSCode', 'PortOfLading']\n",
      "9465\n",
      "Number of nodes and edges ::  1776 9465\n",
      "['PanjivaRecordID', 'HSCode']\n",
      "47196\n",
      "Number of nodes and edges ::  48972 56661\n",
      "['PanjivaRecordID', 'ConsigneePanjivaID']\n",
      "47196\n",
      "Number of nodes and edges ::  54490 103857\n",
      "['PanjivaRecordID', 'ShipperPanjivaID']\n",
      "47196\n",
      "Number of nodes and edges ::  61380 151053\n"
     ]
    }
   ],
   "source": [
    "DIR = 'us_import1'\n",
    "\n",
    "setup()\n",
    "print (NS.model_use_data_DIR)\n",
    "domain_dims = get_domain_dims(DIR)\n",
    "df = get_training_data(DIR)\n",
    "G = NS.get_initial_graph(df, domain_dims)\n",
    "df_test = read_target_data()\n",
    "G = NS.get_graph_W_transaction_nodes(G, df_test)"
   ]
  },
  {
   "cell_type": "code",
   "execution_count": null,
   "metadata": {},
   "outputs": [],
   "source": [
    "nx.simrank_similarity_numpy(G)"
   ]
  },
  {
   "cell_type": "code",
   "execution_count": null,
   "metadata": {},
   "outputs": [],
   "source": []
  }
 ],
 "metadata": {
  "kernelspec": {
   "display_name": "Python 3",
   "language": "python",
   "name": "python3"
  },
  "language_info": {
   "codemirror_mode": {
    "name": "ipython",
    "version": 3
   },
   "file_extension": ".py",
   "mimetype": "text/x-python",
   "name": "python",
   "nbconvert_exporter": "python",
   "pygments_lexer": "ipython3",
   "version": "3.6.9"
  }
 },
 "nbformat": 4,
 "nbformat_minor": 4
}
