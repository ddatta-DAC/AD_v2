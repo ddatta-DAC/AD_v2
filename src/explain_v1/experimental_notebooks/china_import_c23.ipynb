{
 "cells": [
  {
   "cell_type": "code",
   "execution_count": 242,
   "metadata": {},
   "outputs": [],
   "source": [
    "import pickle\n",
    "import numpy as np\n",
    "import pandas as pd\n",
    "import sys\n",
    "from sklearn.decomposition import PCA\n",
    "import os\n",
    "import matplotlib.pyplot as plt\n",
    "from scipy.spatial.distance import cosine\n",
    "from scipy.spatial.distance import euclidean\n",
    "import matplotlib.pyplot as plt"
   ]
  },
  {
   "cell_type": "code",
   "execution_count": 601,
   "metadata": {},
   "outputs": [],
   "source": [
    "_DIR = 'china_import'\n",
    "_FILE_DIR = './../output'\n",
    "DATA_DIR = './../../../generated_data'"
   ]
  },
  {
   "cell_type": "code",
   "execution_count": 602,
   "metadata": {},
   "outputs": [],
   "source": [
    "with open(os.path.join(_FILE_DIR, _DIR, 'train_embedding_values.pkl'),'rb') as fh:\n",
    "    arr = pickle.load(fh)\n",
    "    \n",
    "with open(os.path.join(DATA_DIR, _DIR, 'domain_dims.pkl'),'rb') as fh:\n",
    "    domain_dims =  pickle.load(fh)\n",
    "    \n",
    "train_x = arr[0]\n",
    "train_x_emb = arr[1]\n",
    "emb_size = train_x_emb.shape[-1]"
   ]
  },
  {
   "cell_type": "markdown",
   "metadata": {},
   "source": [
    "# create arrays for each domain\n"
   ]
  },
  {
   "cell_type": "code",
   "execution_count": 603,
   "metadata": {},
   "outputs": [],
   "source": [
    "domain_sizes = list(domain_dims.values())\n",
    "domain_names = list(domain_dims.keys())\n",
    "domain_emb_dict = {}"
   ]
  },
  {
   "cell_type": "code",
   "execution_count": 604,
   "metadata": {},
   "outputs": [],
   "source": [
    "domain_id2name = {e[0]:e[1] for e in enumerate(domain_names,0)}\n",
    "domain_name2id = {e[1]:e[0] for e in enumerate(domain_names,0)}"
   ]
  },
  {
   "cell_type": "code",
   "execution_count": 605,
   "metadata": {},
   "outputs": [],
   "source": [
    "for _ds,_dn in zip(domain_sizes, domain_names):\n",
    "    a = np.zeros([_ds,emb_size])\n",
    "    domain_emb_dict[domain_name2id[_dn]] = a"
   ]
  },
  {
   "cell_type": "code",
   "execution_count": 606,
   "metadata": {},
   "outputs": [
    {
     "data": {
      "text/plain": [
       "(3375, 12)"
      ]
     },
     "execution_count": 606,
     "metadata": {},
     "output_type": "execute_result"
    }
   ],
   "source": [
    "domain_emb_dict[1].shape"
   ]
  },
  {
   "cell_type": "code",
   "execution_count": 607,
   "metadata": {},
   "outputs": [],
   "source": [
    "num_cols =  train_x_emb.shape[1]\n",
    "for c in range(num_cols):\n",
    "    ids = train_x[:,c]\n",
    "    vals = train_x_emb[:,c,:]\n",
    "    ids = np.reshape(ids,[-1,1])\n",
    "    tmp = np.hstack([ids,vals])\n",
    "    _df = pd.DataFrame(tmp)\n",
    "    _df = _df.rename(columns={0:'id'})\n",
    "    _df = _df.drop_duplicates(subset=['id'])\n",
    "   \n",
    "    for i,row in _df.iterrows():\n",
    "        _id = int(row['id'])\n",
    "        z = row.values\n",
    "        domain_emb_dict[c][_id] = z[1:]"
   ]
  },
  {
   "cell_type": "code",
   "execution_count": 608,
   "metadata": {},
   "outputs": [],
   "source": [
    "c = 1"
   ]
  },
  {
   "cell_type": "code",
   "execution_count": 609,
   "metadata": {},
   "outputs": [],
   "source": [
    "test_x_df_file = os.path.join(DATA_DIR, _DIR, 'test_data.csv')\n",
    "anomalies_c_df_file = os.path.join(DATA_DIR, _DIR, \"anomalies_c{}_data.csv\".format(c))"
   ]
  },
  {
   "cell_type": "code",
   "execution_count": 610,
   "metadata": {},
   "outputs": [],
   "source": [
    "# select 100 of the test instances\n"
   ]
  },
  {
   "cell_type": "code",
   "execution_count": 611,
   "metadata": {},
   "outputs": [
    {
     "data": {
      "text/plain": [
       "'./../../../generated_data/china_import/anomalies_c1_data.csv'"
      ]
     },
     "execution_count": 611,
     "metadata": {},
     "output_type": "execute_result"
    }
   ],
   "source": [
    "anomalies_c_df_file"
   ]
  },
  {
   "cell_type": "code",
   "execution_count": 612,
   "metadata": {},
   "outputs": [],
   "source": [
    "suffix = '011'\n",
    "\n",
    "anomalies_c_df = pd.read_csv(anomalies_c_df_file)"
   ]
  },
  {
   "cell_type": "code",
   "execution_count": 613,
   "metadata": {},
   "outputs": [],
   "source": [
    "def set_ref_id(row):\n",
    "    _id = row['PanjivaRecordID']\n",
    "    _id = str(_id)[:-3]\n",
    "    return int(_id)"
   ]
  },
  {
   "cell_type": "code",
   "execution_count": 614,
   "metadata": {},
   "outputs": [],
   "source": [
    "anomalies_c_df['ref_id'] = 0\n",
    "anomalies_c_df['ref_id'] = anomalies_c_df.apply(\n",
    "    set_ref_id,\n",
    "    axis=1\n",
    ")"
   ]
  },
  {
   "cell_type": "code",
   "execution_count": 615,
   "metadata": {},
   "outputs": [
    {
     "data": {
      "text/html": [
       "<div>\n",
       "<style scoped>\n",
       "    .dataframe tbody tr th:only-of-type {\n",
       "        vertical-align: middle;\n",
       "    }\n",
       "\n",
       "    .dataframe tbody tr th {\n",
       "        vertical-align: top;\n",
       "    }\n",
       "\n",
       "    .dataframe thead th {\n",
       "        text-align: right;\n",
       "    }\n",
       "</style>\n",
       "<table border=\"1\" class=\"dataframe\">\n",
       "  <thead>\n",
       "    <tr style=\"text-align: right;\">\n",
       "      <th></th>\n",
       "      <th>PanjivaRecordID</th>\n",
       "      <th>AdminRegion</th>\n",
       "      <th>ConsigneePanjivaID</th>\n",
       "      <th>CountryOfSale</th>\n",
       "      <th>Province</th>\n",
       "      <th>ShipmentOrigin</th>\n",
       "      <th>TradeType</th>\n",
       "      <th>TransportMethod</th>\n",
       "      <th>hscode_6</th>\n",
       "      <th>ref_id</th>\n",
       "    </tr>\n",
       "  </thead>\n",
       "  <tbody>\n",
       "    <tr>\n",
       "      <th>0</th>\n",
       "      <td>202269631011</td>\n",
       "      <td>176</td>\n",
       "      <td>2264</td>\n",
       "      <td>57</td>\n",
       "      <td>18</td>\n",
       "      <td>51</td>\n",
       "      <td>3</td>\n",
       "      <td>4</td>\n",
       "      <td>1</td>\n",
       "      <td>202269631</td>\n",
       "    </tr>\n",
       "    <tr>\n",
       "      <th>1</th>\n",
       "      <td>202802495011</td>\n",
       "      <td>115</td>\n",
       "      <td>2242</td>\n",
       "      <td>25</td>\n",
       "      <td>22</td>\n",
       "      <td>28</td>\n",
       "      <td>3</td>\n",
       "      <td>1</td>\n",
       "      <td>44</td>\n",
       "      <td>202802495</td>\n",
       "    </tr>\n",
       "    <tr>\n",
       "      <th>2</th>\n",
       "      <td>202272191011</td>\n",
       "      <td>176</td>\n",
       "      <td>1741</td>\n",
       "      <td>6</td>\n",
       "      <td>18</td>\n",
       "      <td>20</td>\n",
       "      <td>3</td>\n",
       "      <td>1</td>\n",
       "      <td>44</td>\n",
       "      <td>202272191</td>\n",
       "    </tr>\n",
       "    <tr>\n",
       "      <th>3</th>\n",
       "      <td>202212287011</td>\n",
       "      <td>296</td>\n",
       "      <td>2713</td>\n",
       "      <td>11</td>\n",
       "      <td>18</td>\n",
       "      <td>10</td>\n",
       "      <td>3</td>\n",
       "      <td>1</td>\n",
       "      <td>44</td>\n",
       "      <td>202212287</td>\n",
       "    </tr>\n",
       "    <tr>\n",
       "      <th>4</th>\n",
       "      <td>202210175011</td>\n",
       "      <td>273</td>\n",
       "      <td>289</td>\n",
       "      <td>103</td>\n",
       "      <td>10</td>\n",
       "      <td>67</td>\n",
       "      <td>3</td>\n",
       "      <td>4</td>\n",
       "      <td>22</td>\n",
       "      <td>202210175</td>\n",
       "    </tr>\n",
       "    <tr>\n",
       "      <th>5</th>\n",
       "      <td>202159295011</td>\n",
       "      <td>213</td>\n",
       "      <td>2587</td>\n",
       "      <td>97</td>\n",
       "      <td>18</td>\n",
       "      <td>111</td>\n",
       "      <td>7</td>\n",
       "      <td>4</td>\n",
       "      <td>22</td>\n",
       "      <td>202159295</td>\n",
       "    </tr>\n",
       "    <tr>\n",
       "      <th>6</th>\n",
       "      <td>203268287011</td>\n",
       "      <td>30</td>\n",
       "      <td>368</td>\n",
       "      <td>95</td>\n",
       "      <td>24</td>\n",
       "      <td>104</td>\n",
       "      <td>3</td>\n",
       "      <td>1</td>\n",
       "      <td>24</td>\n",
       "      <td>203268287</td>\n",
       "    </tr>\n",
       "    <tr>\n",
       "      <th>7</th>\n",
       "      <td>203182847011</td>\n",
       "      <td>6</td>\n",
       "      <td>816</td>\n",
       "      <td>34</td>\n",
       "      <td>24</td>\n",
       "      <td>40</td>\n",
       "      <td>3</td>\n",
       "      <td>1</td>\n",
       "      <td>42</td>\n",
       "      <td>203182847</td>\n",
       "    </tr>\n",
       "    <tr>\n",
       "      <th>8</th>\n",
       "      <td>202282431011</td>\n",
       "      <td>305</td>\n",
       "      <td>2775</td>\n",
       "      <td>58</td>\n",
       "      <td>10</td>\n",
       "      <td>62</td>\n",
       "      <td>3</td>\n",
       "      <td>1</td>\n",
       "      <td>42</td>\n",
       "      <td>202282431</td>\n",
       "    </tr>\n",
       "    <tr>\n",
       "      <th>9</th>\n",
       "      <td>203409535011</td>\n",
       "      <td>84</td>\n",
       "      <td>2495</td>\n",
       "      <td>99</td>\n",
       "      <td>2</td>\n",
       "      <td>108</td>\n",
       "      <td>3</td>\n",
       "      <td>1</td>\n",
       "      <td>61</td>\n",
       "      <td>203409535</td>\n",
       "    </tr>\n",
       "  </tbody>\n",
       "</table>\n",
       "</div>"
      ],
      "text/plain": [
       "   PanjivaRecordID  AdminRegion  ConsigneePanjivaID  CountryOfSale  Province  \\\n",
       "0     202269631011          176                2264             57        18   \n",
       "1     202802495011          115                2242             25        22   \n",
       "2     202272191011          176                1741              6        18   \n",
       "3     202212287011          296                2713             11        18   \n",
       "4     202210175011          273                 289            103        10   \n",
       "5     202159295011          213                2587             97        18   \n",
       "6     203268287011           30                 368             95        24   \n",
       "7     203182847011            6                 816             34        24   \n",
       "8     202282431011          305                2775             58        10   \n",
       "9     203409535011           84                2495             99         2   \n",
       "\n",
       "   ShipmentOrigin  TradeType  TransportMethod  hscode_6     ref_id  \n",
       "0              51          3                4         1  202269631  \n",
       "1              28          3                1        44  202802495  \n",
       "2              20          3                1        44  202272191  \n",
       "3              10          3                1        44  202212287  \n",
       "4              67          3                4        22  202210175  \n",
       "5             111          7                4        22  202159295  \n",
       "6             104          3                1        24  203268287  \n",
       "7              40          3                1        42  203182847  \n",
       "8              62          3                1        42  202282431  \n",
       "9             108          3                1        61  203409535  "
      ]
     },
     "execution_count": 615,
     "metadata": {},
     "output_type": "execute_result"
    }
   ],
   "source": [
    "anomalies_c_df.head(10)"
   ]
  },
  {
   "cell_type": "code",
   "execution_count": 616,
   "metadata": {},
   "outputs": [],
   "source": [
    "test_df = pd.read_csv(test_x_df_file)\n",
    "# a_c1_df = pd.read_csv(anomalies_c1_df_file)"
   ]
  },
  {
   "cell_type": "code",
   "execution_count": 617,
   "metadata": {},
   "outputs": [],
   "source": [
    "count = 4000"
   ]
  },
  {
   "cell_type": "code",
   "execution_count": 618,
   "metadata": {},
   "outputs": [
    {
     "data": {
      "text/plain": [
       "14420"
      ]
     },
     "execution_count": 618,
     "metadata": {},
     "output_type": "execute_result"
    }
   ],
   "source": [
    "len(test_df)"
   ]
  },
  {
   "cell_type": "code",
   "execution_count": 619,
   "metadata": {},
   "outputs": [],
   "source": [
    "# test_df = test_df.head(count)\n",
    "anomalies_c_df = anomalies_c_df.loc[anomalies_c_df['ref_id'].isin(list(test_df['PanjivaRecordID']))]\n"
   ]
  },
  {
   "cell_type": "code",
   "execution_count": 620,
   "metadata": {},
   "outputs": [
    {
     "data": {
      "text/html": [
       "<div>\n",
       "<style scoped>\n",
       "    .dataframe tbody tr th:only-of-type {\n",
       "        vertical-align: middle;\n",
       "    }\n",
       "\n",
       "    .dataframe tbody tr th {\n",
       "        vertical-align: top;\n",
       "    }\n",
       "\n",
       "    .dataframe thead th {\n",
       "        text-align: right;\n",
       "    }\n",
       "</style>\n",
       "<table border=\"1\" class=\"dataframe\">\n",
       "  <thead>\n",
       "    <tr style=\"text-align: right;\">\n",
       "      <th></th>\n",
       "      <th>PanjivaRecordID</th>\n",
       "      <th>AdminRegion</th>\n",
       "      <th>ConsigneePanjivaID</th>\n",
       "      <th>CountryOfSale</th>\n",
       "      <th>Province</th>\n",
       "      <th>ShipmentOrigin</th>\n",
       "      <th>TradeType</th>\n",
       "      <th>TransportMethod</th>\n",
       "      <th>hscode_6</th>\n",
       "      <th>ref_id</th>\n",
       "    </tr>\n",
       "  </thead>\n",
       "  <tbody>\n",
       "    <tr>\n",
       "      <th>0</th>\n",
       "      <td>202269631011</td>\n",
       "      <td>176</td>\n",
       "      <td>2264</td>\n",
       "      <td>57</td>\n",
       "      <td>18</td>\n",
       "      <td>51</td>\n",
       "      <td>3</td>\n",
       "      <td>4</td>\n",
       "      <td>1</td>\n",
       "      <td>202269631</td>\n",
       "    </tr>\n",
       "    <tr>\n",
       "      <th>1</th>\n",
       "      <td>202802495011</td>\n",
       "      <td>115</td>\n",
       "      <td>2242</td>\n",
       "      <td>25</td>\n",
       "      <td>22</td>\n",
       "      <td>28</td>\n",
       "      <td>3</td>\n",
       "      <td>1</td>\n",
       "      <td>44</td>\n",
       "      <td>202802495</td>\n",
       "    </tr>\n",
       "    <tr>\n",
       "      <th>2</th>\n",
       "      <td>202272191011</td>\n",
       "      <td>176</td>\n",
       "      <td>1741</td>\n",
       "      <td>6</td>\n",
       "      <td>18</td>\n",
       "      <td>20</td>\n",
       "      <td>3</td>\n",
       "      <td>1</td>\n",
       "      <td>44</td>\n",
       "      <td>202272191</td>\n",
       "    </tr>\n",
       "    <tr>\n",
       "      <th>3</th>\n",
       "      <td>202212287011</td>\n",
       "      <td>296</td>\n",
       "      <td>2713</td>\n",
       "      <td>11</td>\n",
       "      <td>18</td>\n",
       "      <td>10</td>\n",
       "      <td>3</td>\n",
       "      <td>1</td>\n",
       "      <td>44</td>\n",
       "      <td>202212287</td>\n",
       "    </tr>\n",
       "    <tr>\n",
       "      <th>4</th>\n",
       "      <td>202210175011</td>\n",
       "      <td>273</td>\n",
       "      <td>289</td>\n",
       "      <td>103</td>\n",
       "      <td>10</td>\n",
       "      <td>67</td>\n",
       "      <td>3</td>\n",
       "      <td>4</td>\n",
       "      <td>22</td>\n",
       "      <td>202210175</td>\n",
       "    </tr>\n",
       "    <tr>\n",
       "      <th>5</th>\n",
       "      <td>202159295011</td>\n",
       "      <td>213</td>\n",
       "      <td>2587</td>\n",
       "      <td>97</td>\n",
       "      <td>18</td>\n",
       "      <td>111</td>\n",
       "      <td>7</td>\n",
       "      <td>4</td>\n",
       "      <td>22</td>\n",
       "      <td>202159295</td>\n",
       "    </tr>\n",
       "    <tr>\n",
       "      <th>6</th>\n",
       "      <td>203268287011</td>\n",
       "      <td>30</td>\n",
       "      <td>368</td>\n",
       "      <td>95</td>\n",
       "      <td>24</td>\n",
       "      <td>104</td>\n",
       "      <td>3</td>\n",
       "      <td>1</td>\n",
       "      <td>24</td>\n",
       "      <td>203268287</td>\n",
       "    </tr>\n",
       "    <tr>\n",
       "      <th>7</th>\n",
       "      <td>203182847011</td>\n",
       "      <td>6</td>\n",
       "      <td>816</td>\n",
       "      <td>34</td>\n",
       "      <td>24</td>\n",
       "      <td>40</td>\n",
       "      <td>3</td>\n",
       "      <td>1</td>\n",
       "      <td>42</td>\n",
       "      <td>203182847</td>\n",
       "    </tr>\n",
       "    <tr>\n",
       "      <th>8</th>\n",
       "      <td>202282431011</td>\n",
       "      <td>305</td>\n",
       "      <td>2775</td>\n",
       "      <td>58</td>\n",
       "      <td>10</td>\n",
       "      <td>62</td>\n",
       "      <td>3</td>\n",
       "      <td>1</td>\n",
       "      <td>42</td>\n",
       "      <td>202282431</td>\n",
       "    </tr>\n",
       "    <tr>\n",
       "      <th>9</th>\n",
       "      <td>203409535011</td>\n",
       "      <td>84</td>\n",
       "      <td>2495</td>\n",
       "      <td>99</td>\n",
       "      <td>2</td>\n",
       "      <td>108</td>\n",
       "      <td>3</td>\n",
       "      <td>1</td>\n",
       "      <td>61</td>\n",
       "      <td>203409535</td>\n",
       "    </tr>\n",
       "  </tbody>\n",
       "</table>\n",
       "</div>"
      ],
      "text/plain": [
       "   PanjivaRecordID  AdminRegion  ConsigneePanjivaID  CountryOfSale  Province  \\\n",
       "0     202269631011          176                2264             57        18   \n",
       "1     202802495011          115                2242             25        22   \n",
       "2     202272191011          176                1741              6        18   \n",
       "3     202212287011          296                2713             11        18   \n",
       "4     202210175011          273                 289            103        10   \n",
       "5     202159295011          213                2587             97        18   \n",
       "6     203268287011           30                 368             95        24   \n",
       "7     203182847011            6                 816             34        24   \n",
       "8     202282431011          305                2775             58        10   \n",
       "9     203409535011           84                2495             99         2   \n",
       "\n",
       "   ShipmentOrigin  TradeType  TransportMethod  hscode_6     ref_id  \n",
       "0              51          3                4         1  202269631  \n",
       "1              28          3                1        44  202802495  \n",
       "2              20          3                1        44  202272191  \n",
       "3              10          3                1        44  202212287  \n",
       "4              67          3                4        22  202210175  \n",
       "5             111          7                4        22  202159295  \n",
       "6             104          3                1        24  203268287  \n",
       "7              40          3                1        42  203182847  \n",
       "8              62          3                1        42  202282431  \n",
       "9             108          3                1        61  203409535  "
      ]
     },
     "execution_count": 620,
     "metadata": {},
     "output_type": "execute_result"
    }
   ],
   "source": [
    "anomalies_c_df.head(10)"
   ]
  },
  {
   "cell_type": "code",
   "execution_count": 621,
   "metadata": {},
   "outputs": [],
   "source": [
    "# contrast will have : Actual +  Generated Anomaly\n",
    "contrast_data = []\n",
    "for i,row in test_df.iterrows():\n",
    "    t_row_copy= pd.Series(row,copy=True)\n",
    "    _tmp = anomalies_c_df.loc[anomalies_c_df['ref_id']==row['PanjivaRecordID']]\n",
    "    del t_row_copy['PanjivaRecordID']\n",
    "    v = t_row_copy.values\n",
    "    del _tmp['PanjivaRecordID']\n",
    "    del _tmp['ref_id']\n",
    "    try:\n",
    "        _tmp = (_tmp.values)[0]\n",
    "        arr = np.vstack([v,_tmp])\n",
    "        contrast_data.append(arr) \n",
    "    except: pass"
   ]
  },
  {
   "cell_type": "code",
   "execution_count": 622,
   "metadata": {},
   "outputs": [
    {
     "data": {
      "text/plain": [
       "14346"
      ]
     },
     "execution_count": 622,
     "metadata": {},
     "output_type": "execute_result"
    }
   ],
   "source": [
    "len(contrast_data)"
   ]
  },
  {
   "cell_type": "code",
   "execution_count": 623,
   "metadata": {},
   "outputs": [],
   "source": [
    "def get_embedding(id_value, domain_id, domain_emb_dict):\n",
    "    return domain_emb_dict[domain_id][id_value]\n",
    "\n",
    "def get_emb_arr(arr,domain_emb_dict):\n",
    "    tmp = []\n",
    "    for i in range(len(arr)):\n",
    "        v = get_embedding(arr[i], i, domain_emb_dict)\n",
    "        tmp.append(v)\n",
    "    tmp = np.array(tmp)\n",
    "    return tmp"
   ]
  },
  {
   "cell_type": "code",
   "execution_count": 747,
   "metadata": {},
   "outputs": [],
   "source": [
    "def get_reduce_dim(arr,nc=2):\n",
    "    \n",
    "    pca = PCA(n_components=nc, svd_solver='full')\n",
    "    res = pca.fit_transform(arr)\n",
    "    return np.reshape(res,[-1,nc])"
   ]
  },
  {
   "cell_type": "code",
   "execution_count": null,
   "metadata": {},
   "outputs": [],
   "source": []
  },
  {
   "cell_type": "code",
   "execution_count": null,
   "metadata": {},
   "outputs": [],
   "source": []
  },
  {
   "cell_type": "code",
   "execution_count": null,
   "metadata": {},
   "outputs": [],
   "source": []
  },
  {
   "cell_type": "code",
   "execution_count": 624,
   "metadata": {},
   "outputs": [],
   "source": [
    "def dissect_v4(arr):\n",
    "    # calculate projection\n",
    "    # normalize arr\n",
    "    p = [_/np.linalg.norm(_, ord=2) for _ in arr]\n",
    "    arr_sum = np.mean(arr,axis=0)\n",
    "    \n",
    "    res = []\n",
    "    for i in range(arr.shape[0]):\n",
    "        x = arr[i]\n",
    "        prj = np.dot(arr_sum,x)/np.linalg.norm(arr_sum, ord=2)\n",
    "#         print(prj)\n",
    "        res.append(prj)\n",
    "    res = np.array(res)\n",
    "    return res"
   ]
  },
  {
   "cell_type": "code",
   "execution_count": 625,
   "metadata": {},
   "outputs": [],
   "source": [
    "np.set_printoptions(formatter={'float': lambda x: \"{0:0.3f}\".format(x)})\n"
   ]
  },
  {
   "cell_type": "code",
   "execution_count": 717,
   "metadata": {
    "scrolled": true
   },
   "outputs": [
    {
     "name": "stdout",
     "output_type": "stream",
     "text": [
      "0 14346\n",
      "0.0\n",
      "4.007737348389795\n",
      "0.6910637111389935\n"
     ]
    }
   ],
   "source": [
    "pos = 0\n",
    "l = 0\n",
    "i = 0\n",
    "tot_hr = 0\n",
    "_positive_list = []\n",
    "for instance in contrast_data[:]:\n",
    "    i +=1\n",
    "    n = instance[0]\n",
    "    a = instance[1]\n",
    "    diff_indices = np.nonzero(np.bitwise_xor(n, a))[0]\n",
    "#     print('True   ', a)\n",
    "#     print('Anomaly', n)\n",
    "    n_emb = get_emb_arr(n,domain_emb_dict)\n",
    "    a_emb = get_emb_arr(a,domain_emb_dict)\n",
    "    \n",
    "    prj_res = dissect_v4(a_emb)\n",
    "#     print(prj_res)\n",
    "    _mean = np.mean(prj_res)\n",
    "    min_indices = np.where(prj_res < _mean)[0]\n",
    "    l += len(min_indices)\n",
    "#     print(min_indices,diff_indices,set(min_indices).intersection(diff_indices))\n",
    "    hr = len(set(min_indices).intersection(diff_indices))/len(diff_indices)\n",
    "    tot_hr += hr\n",
    "    \n",
    "    if np.argmin(prj_res) == diff_indices[0]:\n",
    "        if len(np.where(prj_res < 0)[0]) == 1 and _mean > 0:\n",
    "            _positive_list.append(instance)\n",
    "            \n",
    "    norm_n = np.square(np.linalg.norm(np.sum(n_emb,axis=0), ord=2))\n",
    "    norm_a = np.square(np.linalg.norm(np.sum(a_emb,axis=0), ord=2))\n",
    "#     print(np.tanh(norm_n) , ' || ', np.tanh(norm_a))      \n",
    "#     print('----')\n",
    "    \n",
    "    \n",
    "\n",
    "print(pos, len(contrast_data))\n",
    "print(pos/i)\n",
    "print(l/i)\n",
    "print(tot_hr/i)"
   ]
  },
  {
   "cell_type": "markdown",
   "metadata": {},
   "source": [
    "# -------- Visualize ------------ #"
   ]
  },
  {
   "cell_type": "markdown",
   "metadata": {},
   "source": [
    "x2=cosβx1−sinβy1\n",
    "y2=sinβx1+cosβy1\n",
    " \n"
   ]
  },
  {
   "cell_type": "code",
   "execution_count": 673,
   "metadata": {},
   "outputs": [],
   "source": [
    "def rotate_by_Beta(x1,y1, _beta):\n",
    "    x2 = np.cos(_beta)*x1 - np.sin(_beta) * y1\n",
    "    y2 = np.sin(_beta)*x1 + np.cos(_beta) * y1\n",
    "    return x2,y2"
   ]
  },
  {
   "cell_type": "code",
   "execution_count": 674,
   "metadata": {},
   "outputs": [],
   "source": [
    "def rotate_to_xAxis(x1,y1):\n",
    "    alpha = np.arccos(x1/(np.sqrt(x1*x1 + y1*y1)))*(180*7/22)\n",
    "    x2, y2 = rotate_by_Beta(x1,y1, -alpha)\n",
    "    return x2,y2, alpha\n",
    "\n",
    "\n"
   ]
  },
  {
   "cell_type": "code",
   "execution_count": 675,
   "metadata": {},
   "outputs": [
    {
     "data": {
      "text/plain": [
       "(1.3127996327724387, -0.2855820796068096, 44.98189481276295)"
      ]
     },
     "execution_count": 675,
     "metadata": {},
     "output_type": "execute_result"
    }
   ],
   "source": [
    "rotate_to_xAxis(0.95,0.95)"
   ]
  },
  {
   "cell_type": "code",
   "execution_count": 676,
   "metadata": {},
   "outputs": [
    {
     "data": {
      "text/plain": [
       "0.7071067811865475"
      ]
     },
     "execution_count": 676,
     "metadata": {},
     "output_type": "execute_result"
    }
   ],
   "source": [
    "np.sqrt(0.7071067811865475 * 0.7071067811865475 + (-5.551115123125783e-17*-5.551115123125783e-17))\n"
   ]
  },
  {
   "cell_type": "code",
   "execution_count": 718,
   "metadata": {},
   "outputs": [
    {
     "data": {
      "text/plain": [
       "147"
      ]
     },
     "execution_count": 718,
     "metadata": {},
     "output_type": "execute_result"
    }
   ],
   "source": [
    "len(_positive_list)"
   ]
  },
  {
   "cell_type": "code",
   "execution_count": 923,
   "metadata": {},
   "outputs": [
    {
     "name": "stdout",
     "output_type": "stream",
     "text": [
      "0.4854562921102105  ||  0.41078965082928787\n",
      "[0.108 -0.723 0.863 0.327 0.182 -0.840 -0.350 0.433]\n",
      " >>  [0.178 0.877 -0.023 0.086 0.183 0.039 -0.025 -0.010 -0.004 -0.342 0.050\n",
      " -0.111]\n",
      "magnitude of mean 1.0\n",
      "0.5442981981669103  ||  0.3336988467792769\n",
      "[0.261 -0.796 0.735 0.526 -0.035 -0.710 -0.322 0.341]\n",
      " >>  [0.103 0.877 -0.019 0.107 0.117 0.024 -0.023 -0.042 0.033 -0.372 0.027\n",
      " -0.058]\n",
      "magnitude of mean 0.9603373997801098\n"
     ]
    },
    {
     "data": {
      "image/png": "[encoded data removed]",
      "text/plain": [
       "<Figure size 432x288 with 1 Axes>"
      ]
     },
     "metadata": {
      "needs_background": "light"
     },
     "output_type": "display_data"
    }
   ],
   "source": [
    "pos = 0\n",
    "l = 0\n",
    "i = 0\n",
    "tot_hr = 0\n",
    "fig = plt.figure(figsize=[6,4])\n",
    "ax = fig.add_subplot(111)\n",
    "plt.xlim([-1,1.1])\n",
    "plt.ylim([-0.7,1])\n",
    "plt.xticks(np.arange(-1,1.5,0.5),fontsize=12)\n",
    "plt.yticks(np.arange(-.7,1.2,0.4),fontsize=12)\n",
    "known = [58,74]\n",
    "i = 1\n",
    "for instance in [_positive_list[58],_positive_list[74]]:\n",
    "# for instance in _positive_list: \n",
    "    n = instance[0]\n",
    "    a = instance[1]\n",
    "    diff_indices = np.nonzero(np.bitwise_xor(n, a))[0]\n",
    "    n_emb = get_emb_arr(n,domain_emb_dict)\n",
    "    a_emb = get_emb_arr(a,domain_emb_dict)\n",
    "    \n",
    "    norm_n = np.square(np.linalg.norm(np.sum(n_emb,axis=0), ord=2))\n",
    "    norm_a = np.square(np.linalg.norm(np.sum(a_emb,axis=0), ord=2))\n",
    "    print(np.tanh(norm_n) , ' || ', np.tanh(norm_a))\n",
    "    \n",
    "    a_emb = list(a_emb)\n",
    "    a_emb.append(np.mean(a_emb, axis=0))\n",
    "    a_emb = get_reduce_dim(a_emb,2)\n",
    "    a_emb_mean = n_emb[-1]\n",
    "    a_emb = a_emb[:-1]\n",
    "    \n",
    "    n_emb = list(n_emb)\n",
    "    n_emb.append(np.mean(n_emb, axis=0))\n",
    "    n_emb = get_reduce_dim(n_emb,2)\n",
    "    n_emb_mean = n_emb[-1]\n",
    "    n_emb = n_emb[:-1]\n",
    "    \n",
    "    prj_res = dissect_v4(a_emb)\n",
    "    print(prj_res)\n",
    "    n_emb = get_reduce_dim(n_emb,2)\n",
    "    a_mean = np.sum(a_emb, axis=0)\n",
    "    n_mean = np.sum(n_emb,axis=0)\n",
    "    \n",
    "    _, _, alpha_n = rotate_to_xAxis(n_mean[0],n_mean[1])\n",
    "    print(' >> ', a_emb_mean)\n",
    "    # rotate \n",
    "    mx,my,alpha = rotate_to_xAxis(a_mean[0],a_mean[1])\n",
    "    mx = mx/ np.sqrt(mx*mx + my*my )\n",
    "    my = my/ np.sqrt(mx*mx + my*my )\n",
    "    mag = np.sqrt (mx**2 + my**2)\n",
    "    print( 'magnitude of mean', np.sqrt (mx**2 + my**2))\n",
    "    idx = diff_indices[0]\n",
    "    target_x, target_y = rotate_by_Beta(a_emb[idx][0], a_emb[idx][1], - alpha) \n",
    "#     target_x = target_x/np.sqrt(target_x**2 + target_y**2 )\n",
    "#     target_y = target_y/np.sqrt(target_x**2 + target_y**2 )\n",
    "    true_x, true_y = rotate_by_Beta(n_emb[idx][0], n_emb[idx][1], - alpha_n) \n",
    "\n",
    "    ax.arrow(0, 0, true_x,true_y, fc=\"g\", ec=\"g\", length_includes_head = True, head_width=0.05,head_length=0.05,linewidth=2,linestyle='-.')\n",
    "    ax.annotate( \n",
    "    'Normal '+str(i), \n",
    "    (true_x-0.05, true_y+0.05),\n",
    "    fontsize=14\n",
    "    )\n",
    "    _angle = np.arccos(target_x/(np.sqrt(target_x*target_x + target_y*target_y)))*(180*7/22)\n",
    "    \n",
    "    if mag == 1 :\n",
    "        ax.arrow(0, 0, mx, my, fc=\"b\", ec=\"b\", length_includes_head = True, head_width=0.05,head_length=0.05,linewidth=2)\n",
    "        ax.annotate( \n",
    "        'Mean \\n embedding', \n",
    "        (mx - 0.5, my - 0.25),\n",
    "        fontsize=15\n",
    "        )\n",
    "    ax.arrow(0, 0, target_x,target_y, fc=\"r\", ec=\"r\", length_includes_head = True, head_width=0.05,head_length=0.05,linewidth=2,linestyle=':')\n",
    "    ax.plot(target_x, target_y, 'r.')\n",
    "    ax.annotate( \n",
    "     'Anomalous '+str(i), \n",
    "     (target_x-0.05, target_y-0.1),\n",
    "    fontsize=14\n",
    "    )\n",
    "    i +=1\n",
    "plt.plot(0,0,'g.',linewidth=2, markersize=10)\n",
    "ax.annotate( \n",
    "    '(0,0)', \n",
    "    (-0.1, -0.2),\n",
    "    fontsize=15\n",
    "    )\n",
    "plt.tight_layout()\n",
    "plt.savefig('interpretability_fig_v1.pdf')\n",
    "plt.show() \n",
    "    "
   ]
  },
  {
   "cell_type": "code",
   "execution_count": null,
   "metadata": {},
   "outputs": [],
   "source": []
  },
  {
   "cell_type": "code",
   "execution_count": null,
   "metadata": {},
   "outputs": [],
   "source": []
  }
 ],
 "metadata": {
  "kernelspec": {
   "display_name": "Python 3",
   "language": "python",
   "name": "python3"
  },
  "language_info": {
   "codemirror_mode": {
    "name": "ipython",
    "version": 3
   },
   "file_extension": ".py",
   "mimetype": "text/x-python",
   "name": "python",
   "nbconvert_exporter": "python",
   "pygments_lexer": "ipython3",
   "version": "3.6.8"
  }
 },
 "nbformat": 4,
 "nbformat_minor": 4
}
