{
 "cells": [
  {
   "cell_type": "code",
   "execution_count": 4,
   "metadata": {},
   "outputs": [],
   "source": [
    "import pandas as pd\n",
    "import sys\n",
    "import os\n",
    "import numpy as np\n",
    "import pickle\n",
    "from itertools import combinations\n",
    "from joblib import Parallel, delayed\n",
    "from numpy import random\n",
    "import hashlib\n",
    "import os\n",
    "import sys\n",
    "import pandas as pd\n",
    "import numpy as np\n",
    "import sklearn\n",
    "import glob\n",
    "import pickle\n",
    "import random\n",
    "from joblib import Parallel, delayed\n",
    "import yaml\n",
    "import math\n",
    "from collections import Counter\n",
    "sys.path.append('.')\n",
    "sys.path.append('./..')\n",
    "\n",
    "try:\n",
    "    import clean_up_test_data\n",
    "except:\n",
    "    from . import clean_up_test_data"
   ]
  },
  {
   "cell_type": "code",
<<<<<<< HEAD
   "execution_count": 1,
=======
   "execution_count": 4,
>>>>>>> 8b2390dba445a99093d4a405b98e1d9a08e99555
   "metadata": {},
   "outputs": [],
   "source": [
    "\n",
    "def get_regex(_type):\n",
    "    global DIR\n",
    "\n",
    "    if DIR == 'us_import':\n",
    "        if _type == 'train':\n",
<<<<<<< HEAD
    "            return '*0[1-3]*2016*.csv'\n",
    "        if _type == 'test':\n",
    "            return '*0[4-5]*2016*.csv'\n",
=======
    "            return '*0[1-6]*2016*.csv'\n",
    "        if _type == 'test':\n",
    "            return '*0[7-9]*2016*.csv'\n",
>>>>>>> 8b2390dba445a99093d4a405b98e1d9a08e99555
    "\n",
    "    if DIR == 'china_import':\n",
    "        if _type == 'train':\n",
    "            return '*0[1-6]*2016*.csv'\n",
    "        if _type == 'test':\n",
    "            return '*0[7-9]*2016*.csv'\n",
    "\n",
    "    if DIR == 'china_export':\n",
    "        if _type == 'train':\n",
    "            return '*0[1-3]*2016*.csv'\n",
    "        if _type == 'test':\n",
    "            return '*0[4-5]*2016*.csv'\n",
    "\n",
    "    return '*.'"
   ]
  },
  {
   "cell_type": "code",
   "execution_count": 5,
   "metadata": {},
   "outputs": [],
   "source": [
    "\n",
    "def get_files(DIR, _type='all'):\n",
    "    data_dir = os.path.join(\n",
    "        './../../Data_Raw',\n",
    "        DIR\n",
    "    )\n",
    "\n",
    "    regex = get_regex(_type)\n",
    "    files = sorted(\n",
    "        glob.glob(\n",
    "            os.path.join(data_dir, regex)\n",
    "        )\n",
    "    )\n",
    "    print('DIR ::', DIR, ' Type ::', _type, 'Files count::', len(files))\n",
    "    return files"
   ]
  },
  {
   "cell_type": "code",
<<<<<<< HEAD
   "execution_count": 7,
=======
   "execution_count": 9,
>>>>>>> 8b2390dba445a99093d4a405b98e1d9a08e99555
   "metadata": {},
   "outputs": [
    {
     "name": "stdout",
     "output_type": "stream",
     "text": [
<<<<<<< HEAD
      "DIR :: us_import  Type :: train Files count:: 3\n"
=======
      "DIR :: china_export  Type :: train Files count:: 3\n"
>>>>>>> 8b2390dba445a99093d4a405b98e1d9a08e99555
     ]
    }
   ],
   "source": [
<<<<<<< HEAD
    "DIR = 'us_import'\n",
    "files = get_files(DIR, _type='train')"
=======
    "DIR = 'china_export'\n",
    "files = get_files('china_export', _type='train')"
>>>>>>> 8b2390dba445a99093d4a405b98e1d9a08e99555
   ]
  },
  {
   "cell_type": "code",
<<<<<<< HEAD
   "execution_count": 8,
=======
   "execution_count": 10,
>>>>>>> 8b2390dba445a99093d4a405b98e1d9a08e99555
   "metadata": {},
   "outputs": [
    {
     "name": "stdout",
     "output_type": "stream",
     "text": [
<<<<<<< HEAD
      "882066\n",
      "910785\n",
      "799375\n"
=======
      "2658799\n",
      "2029060\n",
      "2248984\n"
>>>>>>> 8b2390dba445a99093d4a405b98e1d9a08e99555
     ]
    }
   ],
   "source": [
    "for f in files:\n",
    "    l = len(pd.read_csv(f, usecols=['PanjivaRecordID'], low_memory=False))\n",
    "    print(l)\n",
    "    "
   ]
  },
  {
   "cell_type": "code",
<<<<<<< HEAD
   "execution_count": 9,
=======
   "execution_count": 11,
>>>>>>> 8b2390dba445a99093d4a405b98e1d9a08e99555
   "metadata": {},
   "outputs": [
    {
     "data": {
      "text/plain": [
<<<<<<< HEAD
       "196207"
      ]
     },
     "execution_count": 9,
=======
       "478830"
      ]
     },
     "execution_count": 11,
>>>>>>> 8b2390dba445a99093d4a405b98e1d9a08e99555
     "metadata": {},
     "output_type": "execute_result"
    }
   ],
   "source": [
    "df = pd.read_csv( './../../generated_data_v1/china_export/train_data.csv', usecols=['PanjivaRecordID'], low_memory=False)\n",
    "len(df)"
   ]
  },
  {
   "cell_type": "code",
   "execution_count": 2,
   "metadata": {},
   "outputs": [],
   "source": [
    "    \n",
    "CONFIG_FILE = 'config_preprocessor_v02.yaml'\n",
    "id_col = 'PanjivaRecordID'\n",
    "ns_id_col = 'NegSampleID'\n",
    "term_2_col = 'term_2'\n",
    "term_4_col = 'term_4'\n",
    "num_neg_samples_ape = None\n",
    "use_cols = None\n",
    "freq_bound = None\n",
    "column_value_filters = None\n",
    "num_neg_samples = None\n",
    "save_dir = None\n",
    "cleaned_csv_subdir = None\n",
    "\n",
    "\n",
    "def set_up_config():\n",
    "    global CONFIG_FILE\n",
    "    global use_cols\n",
    "    global freq_bound\n",
    "    global num_neg_samples_ape\n",
    "    global DIR\n",
    "    global save_dir\n",
    "    global column_value_filters\n",
    "    global num_neg_samples\n",
    "    global cleaned_csv_subdir\n",
    "\n",
    "    with open(CONFIG_FILE) as f:\n",
    "        CONFIG = yaml.safe_load(f)\n",
    "\n",
    "    DIR = CONFIG['DIR']\n",
    "    save_dir = os.path.join(\n",
    "        CONFIG['save_dir'],\n",
    "        DIR\n",
    "    )\n",
    "    if not os.path.exists(save_dir):\n",
    "        os.mkdir(save_dir)\n",
    "\n",
    "    cleaned_csv_subdir = os.path.join(\n",
    "        save_dir,\n",
    "        CONFIG['cleaned_csv_subdir']\n",
    "    )\n",
    "\n",
    "    if not os.path.exists(cleaned_csv_subdir):\n",
    "        os.mkdir(cleaned_csv_subdir)\n",
    "\n",
    "    use_cols = CONFIG[DIR]['use_cols']\n",
    "    freq_bound = CONFIG[DIR]['low_freq_bound']\n",
    "    column_value_filters = CONFIG[DIR]['column_value_filters']\n",
    "    num_neg_samples_ape = CONFIG[DIR]['num_neg_samples_ape']\n",
    "    num_neg_samples = CONFIG[DIR]['num_neg_samples']\n",
    "\n",
    "    return CONFIG"
   ]
  },
  {
   "cell_type": "code",
   "execution_count": 4,
   "metadata": {},
   "outputs": [],
   "source": [
    "CONFIG = set_up_config()"
   ]
  },
  {
   "cell_type": "code",
   "execution_count": 31,
   "metadata": {},
   "outputs": [
    {
     "data": {
      "text/plain": [
       "Index(['PanjivaRecordID', 'ShipperPanjivaID', 'ShipmentDestination',\n",
       "       'Province', 'CountryOfSale', 'TransportMethod', 'HSCode', 'AdminRegion',\n",
       "       'TradeType'],\n",
       "      dtype='object')"
      ]
     },
     "execution_count": 31,
     "metadata": {},
     "output_type": "execute_result"
    }
   ],
   "source": [
    "df = pd.read_csv(\n",
    "    os.path.join(save_dir,'train_data.csv'), \n",
    "    usecols=use_cols,low_memory=False \n",
    ")\n",
    "df.columns\n"
   ]
  },
  {
   "cell_type": "code",
   "execution_count": 35,
   "metadata": {},
   "outputs": [],
   "source": [
    "newDf = pd.DataFrame( list( dict(Counter(df['HSCode'])).items() ), columns = ['HSCode','count'])"
   ]
  },
  {
   "cell_type": "code",
   "execution_count": 36,
   "metadata": {},
   "outputs": [],
   "source": [
    "import seaborn as sns\n",
    "import matplotlib.pyplot as plt"
   ]
  },
  {
   "cell_type": "code",
   "execution_count": 37,
   "metadata": {},
   "outputs": [
    {
     "data": {
      "text/plain": [
       "<matplotlib.axes._subplots.AxesSubplot at 0x7f9c791d1e48>"
      ]
     },
     "execution_count": 37,
     "metadata": {},
     "output_type": "execute_result"
    },
    {
     "data": {
      "image/png": "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\n",
      "text/plain": [
       "<Figure size 432x288 with 1 Axes>"
      ]
     },
     "metadata": {
      "needs_background": "light"
     },
     "output_type": "display_data"
    }
   ],
   "source": [
    "sns.distplot(newDf['count'],bins=100,norm_hist=True)"
   ]
  },
  {
   "cell_type": "code",
   "execution_count": 24,
   "metadata": {},
   "outputs": [],
   "source": [
    "counts = list(newDf['count'])"
   ]
  },
  {
   "cell_type": "code",
   "execution_count": 30,
   "metadata": {},
   "outputs": [
    {
     "data": {
      "text/plain": [
       "30.0"
      ]
     },
     "execution_count": 30,
     "metadata": {},
     "output_type": "execute_result"
    }
   ],
   "source": [
    "np.percentile(newDf['count'],75)"
   ]
  },
  {
   "cell_type": "code",
   "execution_count": 8,
   "metadata": {},
   "outputs": [],
   "source": [
    "# ==========================\n",
    "# Append a hash to speed up processing\n",
    "# ==========================\n",
    "def get_hash_aux(row, id_col):\n",
    "    row_dict = row.to_dict()\n",
    "    del row_dict[id_col]\n",
    "    _str = '_'.join([str(_) for _ in row_dict.values()])\n",
    "    _str = str.encode(_str)\n",
    "    str_hash = hashlib.md5(_str).hexdigest()\n",
    "    return str_hash\n",
    "\n",
    "\n",
    "def add_hash(df, id_col):\n",
    "    df['hash'] = df.apply(\n",
    "        get_hash_aux,\n",
    "        axis=1,\n",
    "        args=(id_col,)\n",
    "    )\n",
    "    return df\n",
    "\n",
    "\n",
    "def is_duplicate(ref_df, hash_val):\n",
    "    if len(ref_df.loc[ref_df['hash'] == hash_val]) > 0: return True\n",
    "    return False\n",
    "\n",
    "# modify the id_col\n",
    "def aux_modify_id(value, suffix):\n",
    "    return int(str(value) + str(suffix))\n",
    "\n",
    "def find_pattern_count(domainEntity_dict, ref_df):\n",
    "    global id_col\n",
    "    query_str = []\n",
    "\n",
    "    for _c, _i in domainEntity_dict.items():\n",
    "        query_str.append(' ' + _c + ' == ' + str(_i))\n",
    "    query_str = ' & '.join(query_str)\n",
    "    res_query = ref_df.query(query_str)\n",
    "    return len(res_query)\n",
    "\n",
    "def get_coOccMatrix_dict(df, id_col):\n",
    "    columns = list(df.columns)\n",
    "    columns.remove(id_col)\n",
    "    columns = list(sorted(columns))\n",
    "    columnWise_coOccMatrix_dict = {}\n",
    "\n",
    "    for i in range(len(columns)):\n",
    "        for j in range(i + 1, len(columns)):\n",
    "            col_1 = columns[i]\n",
    "            col_2 = columns[j]\n",
    "            key = col_1 + '_+_' + col_2\n",
    "            res = clean_up_test_data.create_coocc_matrix(df, col_1, col_2)\n",
    "            columnWise_coOccMatrix_dict[key] = res\n",
    "    return columnWise_coOccMatrix_dict"
   ]
  },
  {
   "cell_type": "code",
   "execution_count": 3,
   "metadata": {},
   "outputs": [],
   "source": [
    "CONFIG = set_up_config()\n",
    "dict_coOccMatrix = get_coOccMatrix_dict(train_df, id_col)"
   ]
  },
  {
   "cell_type": "code",
   "execution_count": 16,
   "metadata": {},
   "outputs": [
    {
     "name": "stdout",
     "output_type": "stream",
     "text": [
      "Col 1 & 2 AdminRegion CountryOfSale (492, 205) >> (492, 205)\n",
      "Col 1 & 2 AdminRegion HSCode (492, 130) >> (492, 130)\n",
      "Col 1 & 2 AdminRegion Province (492, 31) >> (492, 31)\n",
      "Col 1 & 2 AdminRegion ShipmentDestination (492, 206) >> (492, 206)\n",
      "Col 1 & 2 AdminRegion ShipperPanjivaID (492, 14088) >> (492, 14088)\n",
      "Col 1 & 2 AdminRegion TradeType (492, 9) >> (492, 9)\n",
      "Col 1 & 2 AdminRegion TransportMethod (492, 6) >> (492, 6)\n",
      "Col 1 & 2 CountryOfSale HSCode (205, 130) >> (205, 130)\n",
      "Col 1 & 2 CountryOfSale Province (205, 31) >> (205, 31)\n",
      "Col 1 & 2 CountryOfSale ShipmentDestination (205, 206) >> (205, 206)\n",
      "Col 1 & 2 CountryOfSale ShipperPanjivaID (205, 14088) >> (205, 14088)\n",
      "Col 1 & 2 CountryOfSale TradeType (205, 9) >> (205, 9)\n",
      "Col 1 & 2 CountryOfSale TransportMethod (205, 6) >> (205, 6)\n",
      "Col 1 & 2 HSCode Province (130, 31) >> (130, 31)\n",
      "Col 1 & 2 HSCode ShipmentDestination (130, 206) >> (130, 206)\n",
      "Col 1 & 2 HSCode ShipperPanjivaID (130, 14088) >> (130, 14088)\n",
      "Col 1 & 2 HSCode TradeType (130, 9) >> (130, 9)\n",
      "Col 1 & 2 HSCode TransportMethod (130, 6) >> (130, 6)\n",
      "Col 1 & 2 Province ShipmentDestination (31, 206) >> (31, 206)\n",
      "Col 1 & 2 Province ShipperPanjivaID (31, 14088) >> (31, 14088)\n",
      "Col 1 & 2 Province TradeType (31, 9) >> (31, 9)\n",
      "Col 1 & 2 Province TransportMethod (31, 6) >> (31, 6)\n",
      "Col 1 & 2 ShipmentDestination ShipperPanjivaID (206, 14088) >> (206, 14088)\n",
      "Col 1 & 2 ShipmentDestination TradeType (206, 9) >> (206, 9)\n",
      "Col 1 & 2 ShipmentDestination TransportMethod (206, 6) >> (206, 6)\n",
      "Col 1 & 2 ShipperPanjivaID TradeType (14088, 9) >> (14088, 9)\n",
      "Col 1 & 2 ShipperPanjivaID TransportMethod (14088, 6) >> (14088, 6)\n",
      "Col 1 & 2 TradeType TransportMethod (9, 6) >> (9, 6)\n"
     ]
    }
   ],
   "source": []
  },
  {
   "cell_type": "code",
   "execution_count": 17,
   "metadata": {},
   "outputs": [],
   "source": [
    "def check_nonZeroCoOccurrence(\n",
    "    dict_domain_entities, \n",
    "    dict_coOccMatrix\n",
    "):\n",
    "    domains = sorted(dict_domain_entities.keys())\n",
    "    for d_pair in combinations(domains,2):\n",
    "        d_pair = sorted(d_pair)\n",
    "        key = '_+_'.join(d_pair)\n",
    "        if dict_coOccMatrix[\n",
    "            dict_domain_entities[d_pair[0]], \n",
    "            dict_domain_entities[d_pair[1]]\n",
    "        ] == 0 : return False\n",
    "    return True"
   ]
  },
  {
   "cell_type": "code",
   "execution_count": 34,
   "metadata": {},
   "outputs": [],
   "source": [
    "    \n",
    "def find_conflicting_patterns(train_df, dict_coOccMatrix, id_col, pattern_size = 4, count = 10):\n",
    "        \n",
    "    domains = list(sorted(train_df.columns))\n",
    "    domains.remove(id_col)\n",
    "    # create set of entity ids for each of the domains\n",
    "    domain_entitiesSet_dict = {}\n",
    "    min_pattern_count =  5\n",
    "    for d in domains:\n",
    "        domain_entitiesSet_dict[d] = list(set(train_df[d]))\n",
    "        \n",
    "    anomalies_df = pd.DataFrame(\n",
    "        columns=list(train_df.columns)\n",
    "    )\n",
    "    max_count = count\n",
    "    max_iterations = 1000\n",
    "    cur_count = 0\n",
    "    while cur_count < max_count :    \n",
    "        iterations = 0\n",
    "        print ( domains )\n",
    "        while iterations < max_iterations:\n",
    "            domain_set = random.choice(domains, size = pattern_size, replace = False)\n",
    "            print ( domain_set )        \n",
    "            excluded_domain = random.choice(domain_set, size=1)[0]\n",
    "            pos_set = list(domain_set)\n",
    "            pos_set.remove(excluded_domain)\n",
    "            candidate_dict = {}\n",
    "            \n",
    "            _tries1 = 0 \n",
    "            while True:\n",
    "                for d in pos_set:\n",
    "                    # sample entity\n",
    "                    candidate_dict[d] = random.choice(domain_entitiesSet_dict[d], size=1)[0]\n",
    "                if check_nonZeroCoOccurrence( candidate_dict, dict_coOccMatrix) == True: continue\n",
    "                _tries1 += 1\n",
    "            print(' Tries (1) :: ', _tries1)\n",
    "            if find_pattern_count(candidate_dict, train_df) >= min_pattern_count:\n",
    "                _tries2 = 0\n",
    "                condition_satisfied = False\n",
    "                while condition_satisfied == False:\n",
    "                    cand_e = random.choice(domain_entitiesSet_dict[excluded_domain], size=1)[0]\n",
    "                    candidate_dict[excluded_domain] = cand_e\n",
    "                    # Ensure that cand_e has non-zero co-occurrence with others\n",
    "                    for dpair in combinations(list(candidate_dict.keys()),2):\n",
    "                        subSet_dict = {}\n",
    "                        subSet_dict[dpair[0]] = candidate_dict[dpair[0]]\n",
    "                        subSet_dict[dpair[1]] = candidate_dict[dpair[1]]\n",
    "                        if check_nonZeroCoOccurrence( subSet_dict, dict_coOccMatrix) == False:\n",
    "                            condition_satisfied = False\n",
    "                            break\n",
    "                        else:\n",
    "                            condition_satisfied = True\n",
    "                    \n",
    "                    _tries2 += 1\n",
    "                print(' Tries (2) :: ', _tries2)        \n",
    "            iterations += 1\n",
    "            \n",
    "        cur_count += 1"
   ]
  },
  {
   "cell_type": "code",
   "execution_count": 35,
   "metadata": {},
   "outputs": [
    {
     "name": "stdout",
     "output_type": "stream",
     "text": [
      "['AdminRegion', 'CountryOfSale', 'HSCode', 'Province', 'ShipmentDestination', 'ShipperPanjivaID', 'TradeType', 'TransportMethod']\n"
     ]
    },
    {
     "ename": "TypeError",
     "evalue": "choice() got an unexpected keyword argument 'size'",
     "output_type": "error",
     "traceback": [
      "\u001b[0;31m---------------------------------------------------------------------------\u001b[0m",
      "\u001b[0;31mTypeError\u001b[0m                                 Traceback (most recent call last)",
      "\u001b[0;32m<ipython-input-35-f3760c5df1ed>\u001b[0m in \u001b[0;36m<module>\u001b[0;34m\u001b[0m\n\u001b[0;32m----> 1\u001b[0;31m \u001b[0mfind_conflicting_patterns\u001b[0m\u001b[0;34m(\u001b[0m\u001b[0mtrain_df\u001b[0m\u001b[0;34m,\u001b[0m \u001b[0mdict_coOccMatrix\u001b[0m\u001b[0;34m,\u001b[0m \u001b[0mid_col\u001b[0m\u001b[0;34m,\u001b[0m \u001b[0mpattern_size\u001b[0m \u001b[0;34m=\u001b[0m \u001b[0;36m4\u001b[0m\u001b[0;34m,\u001b[0m \u001b[0mcount\u001b[0m \u001b[0;34m=\u001b[0m \u001b[0;36m10\u001b[0m\u001b[0;34m)\u001b[0m\u001b[0;34m\u001b[0m\u001b[0;34m\u001b[0m\u001b[0m\n\u001b[0m",
      "\u001b[0;32m<ipython-input-34-be6cfabc9033>\u001b[0m in \u001b[0;36mfind_conflicting_patterns\u001b[0;34m(train_df, dict_coOccMatrix, id_col, pattern_size, count)\u001b[0m\n\u001b[1;32m     19\u001b[0m         \u001b[0mprint\u001b[0m \u001b[0;34m(\u001b[0m \u001b[0mdomains\u001b[0m \u001b[0;34m)\u001b[0m\u001b[0;34m\u001b[0m\u001b[0;34m\u001b[0m\u001b[0m\n\u001b[1;32m     20\u001b[0m         \u001b[0;32mwhile\u001b[0m \u001b[0miterations\u001b[0m \u001b[0;34m<\u001b[0m \u001b[0mmax_iterations\u001b[0m\u001b[0;34m:\u001b[0m\u001b[0;34m\u001b[0m\u001b[0;34m\u001b[0m\u001b[0m\n\u001b[0;32m---> 21\u001b[0;31m             \u001b[0mdomain_set\u001b[0m \u001b[0;34m=\u001b[0m \u001b[0mrandom\u001b[0m\u001b[0;34m.\u001b[0m\u001b[0mchoice\u001b[0m\u001b[0;34m(\u001b[0m\u001b[0mdomains\u001b[0m\u001b[0;34m,\u001b[0m \u001b[0msize\u001b[0m \u001b[0;34m=\u001b[0m \u001b[0mpattern_size\u001b[0m\u001b[0;34m,\u001b[0m \u001b[0mreplace\u001b[0m \u001b[0;34m=\u001b[0m \u001b[0;32mFalse\u001b[0m\u001b[0;34m)\u001b[0m\u001b[0;34m\u001b[0m\u001b[0;34m\u001b[0m\u001b[0m\n\u001b[0m\u001b[1;32m     22\u001b[0m             \u001b[0mprint\u001b[0m \u001b[0;34m(\u001b[0m \u001b[0mdomain_set\u001b[0m \u001b[0;34m)\u001b[0m\u001b[0;34m\u001b[0m\u001b[0;34m\u001b[0m\u001b[0m\n\u001b[1;32m     23\u001b[0m             \u001b[0mexcluded_domain\u001b[0m \u001b[0;34m=\u001b[0m \u001b[0mrandom\u001b[0m\u001b[0;34m.\u001b[0m\u001b[0mchoice\u001b[0m\u001b[0;34m(\u001b[0m\u001b[0mdomain_set\u001b[0m\u001b[0;34m,\u001b[0m \u001b[0msize\u001b[0m\u001b[0;34m=\u001b[0m\u001b[0;36m1\u001b[0m\u001b[0;34m)\u001b[0m\u001b[0;34m[\u001b[0m\u001b[0;36m0\u001b[0m\u001b[0;34m]\u001b[0m\u001b[0;34m\u001b[0m\u001b[0;34m\u001b[0m\u001b[0m\n",
      "\u001b[0;31mTypeError\u001b[0m: choice() got an unexpected keyword argument 'size'"
     ]
    }
   ],
   "source": [
    "find_conflicting_patterns(train_df, dict_coOccMatrix, id_col, pattern_size = 4, count = 10)"
   ]
  },
  {
   "cell_type": "code",
   "execution_count": 31,
   "metadata": {},
   "outputs": [
    {
     "data": {
      "text/plain": [
       "array(['CountryOfSale', 'TradeType', 'TransportMethod',\n",
       "       'ShipperPanjivaID'], dtype='<U19')"
      ]
     },
     "execution_count": 31,
     "metadata": {},
     "output_type": "execute_result"
    }
   ],
   "source": [
    "a = ['AdminRegion', 'CountryOfSale', 'HSCode', 'Province', 'ShipmentDestination', 'ShipperPanjivaID', 'TradeType', 'TransportMethod']\n",
    "\n",
    "np.random.choice(a,size=4,replace=False)"
   ]
  }
 ],
 "metadata": {
  "kernelspec": {
   "display_name": "Python 3",
   "language": "python",
   "name": "python3"
  },
  "language_info": {
   "codemirror_mode": {
    "name": "ipython",
    "version": 3
   },
   "file_extension": ".py",
   "mimetype": "text/x-python",
   "name": "python",
   "nbconvert_exporter": "python",
   "pygments_lexer": "ipython3",
   "version": "3.7.2"
  }
 },
 "nbformat": 4,
 "nbformat_minor": 4
}
