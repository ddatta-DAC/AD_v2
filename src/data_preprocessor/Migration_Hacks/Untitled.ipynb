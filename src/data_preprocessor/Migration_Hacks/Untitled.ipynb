{
 "cells": [
  {
   "cell_type": "code",
   "execution_count": 2,
   "metadata": {},
   "outputs": [],
   "source": [
    "import sys\n",
    "import os\n",
    "import yaml\n",
    "import pandas as pd\n",
    "import argparse\n",
    "sys.path.append('./../../.')\n",
    "sys.path.append('./../.')\n",
    "\n",
    "'''\n",
    "Run \n",
    "main.py --DIR ['us_import1', 'us_import2', 'china_import1', 'china_export1']\n",
    "'''\n",
    "\n",
    "try:\n",
    "    from  src.data_preprocessor import clean_up_test_data\n",
    "except:\n",
    "    from  data_preprocessor import clean_up_test_data\n",
    "\n",
    "\n",
    "# ------------------------------------------------ #\n",
    "data_dir = None\n",
    "save_dir = None\n",
    "id_col = None\n",
    "DIR = None\n",
    "CONFIG = None\n",
    "# ------------------------------------------------ #\n",
    "\n",
    "def set_up_config(_DIR):\n",
    "    global CONFIG\n",
    "    global data_dir\n",
    "    global save_dir\n",
    "    global  id_col\n",
    "    global DIR\n",
    "    CONFIG_FILE = './../config_preprocessor_v02.yaml'\n",
    "    with open(CONFIG_FILE) as f:\n",
    "        CONFIG = yaml.safe_load(f)\n",
    "\n",
    "    DIR = _DIR\n",
    "    if DIR is None:\n",
    "        DIR = CONFIG[DIR]\n",
    "    data_dir = os.path.join('..', CONFIG['save_dir'],DIR)\n",
    "    save_dir = os.path.join('..', CONFIG['save_dir'],DIR)\n",
    "    id_col = CONFIG['id_col']\n",
    "    return"
   ]
  },
  {
   "cell_type": "code",
   "execution_count": null,
   "metadata": {},
   "outputs": [],
   "source": []
  },
  {
   "cell_type": "code",
   "execution_count": 24,
   "metadata": {},
   "outputs": [],
   "source": [
    "set_up_config('china_import1')"
   ]
  },
  {
   "cell_type": "code",
   "execution_count": 25,
   "metadata": {},
   "outputs": [],
   "source": [
    "train_df = pd.read_csv(os.path.join(data_dir, CONFIG['train_data_file']),low_memory=False)\n",
    "test_df = pd.read_csv(os.path.join(data_dir, CONFIG['test_data_file']),low_memory=False)"
   ]
  },
  {
   "cell_type": "code",
   "execution_count": 28,
   "metadata": {},
   "outputs": [
    {
     "data": {
      "text/plain": [
       "12787"
      ]
     },
     "execution_count": 28,
     "metadata": {},
     "output_type": "execute_result"
    }
   ],
   "source": [
    "len(test_df)"
   ]
  },
  {
   "cell_type": "code",
   "execution_count": 26,
   "metadata": {},
   "outputs": [
    {
     "data": {
      "text/html": [
       "<div>\n",
       "<style scoped>\n",
       "    .dataframe tbody tr th:only-of-type {\n",
       "        vertical-align: middle;\n",
       "    }\n",
       "\n",
       "    .dataframe tbody tr th {\n",
       "        vertical-align: top;\n",
       "    }\n",
       "\n",
       "    .dataframe thead th {\n",
       "        text-align: right;\n",
       "    }\n",
       "</style>\n",
       "<table border=\"1\" class=\"dataframe\">\n",
       "  <thead>\n",
       "    <tr style=\"text-align: right;\">\n",
       "      <th></th>\n",
       "      <th>PanjivaRecordID</th>\n",
       "      <th>AdminRegion</th>\n",
       "      <th>ConsigneePanjivaID</th>\n",
       "      <th>CountryOfSale</th>\n",
       "      <th>Province</th>\n",
       "      <th>ShipmentOrigin</th>\n",
       "      <th>TradeType</th>\n",
       "      <th>TransportMethod</th>\n",
       "      <th>hscode_6</th>\n",
       "    </tr>\n",
       "  </thead>\n",
       "  <tbody>\n",
       "    <tr>\n",
       "      <th>0</th>\n",
       "      <td>160711743</td>\n",
       "      <td>361</td>\n",
       "      <td>2681</td>\n",
       "      <td>100</td>\n",
       "      <td>19</td>\n",
       "      <td>105</td>\n",
       "      <td>7</td>\n",
       "      <td>5</td>\n",
       "      <td>1</td>\n",
       "    </tr>\n",
       "    <tr>\n",
       "      <th>1</th>\n",
       "      <td>161302911</td>\n",
       "      <td>83</td>\n",
       "      <td>3195</td>\n",
       "      <td>77</td>\n",
       "      <td>27</td>\n",
       "      <td>97</td>\n",
       "      <td>7</td>\n",
       "      <td>1</td>\n",
       "      <td>1</td>\n",
       "    </tr>\n",
       "    <tr>\n",
       "      <th>2</th>\n",
       "      <td>160601855</td>\n",
       "      <td>364</td>\n",
       "      <td>1358</td>\n",
       "      <td>119</td>\n",
       "      <td>26</td>\n",
       "      <td>105</td>\n",
       "      <td>7</td>\n",
       "      <td>5</td>\n",
       "      <td>1</td>\n",
       "    </tr>\n",
       "    <tr>\n",
       "      <th>3</th>\n",
       "      <td>160587967</td>\n",
       "      <td>75</td>\n",
       "      <td>1186</td>\n",
       "      <td>76</td>\n",
       "      <td>19</td>\n",
       "      <td>79</td>\n",
       "      <td>7</td>\n",
       "      <td>5</td>\n",
       "      <td>1</td>\n",
       "    </tr>\n",
       "    <tr>\n",
       "      <th>4</th>\n",
       "      <td>160564735</td>\n",
       "      <td>268</td>\n",
       "      <td>1134</td>\n",
       "      <td>21</td>\n",
       "      <td>19</td>\n",
       "      <td>20</td>\n",
       "      <td>7</td>\n",
       "      <td>5</td>\n",
       "      <td>1</td>\n",
       "    </tr>\n",
       "    <tr>\n",
       "      <th>5</th>\n",
       "      <td>161431295</td>\n",
       "      <td>302</td>\n",
       "      <td>1669</td>\n",
       "      <td>65</td>\n",
       "      <td>24</td>\n",
       "      <td>68</td>\n",
       "      <td>7</td>\n",
       "      <td>5</td>\n",
       "      <td>44</td>\n",
       "    </tr>\n",
       "    <tr>\n",
       "      <th>6</th>\n",
       "      <td>161209919</td>\n",
       "      <td>269</td>\n",
       "      <td>2830</td>\n",
       "      <td>76</td>\n",
       "      <td>2</td>\n",
       "      <td>79</td>\n",
       "      <td>7</td>\n",
       "      <td>5</td>\n",
       "      <td>44</td>\n",
       "    </tr>\n",
       "    <tr>\n",
       "      <th>7</th>\n",
       "      <td>160850303</td>\n",
       "      <td>78</td>\n",
       "      <td>1736</td>\n",
       "      <td>11</td>\n",
       "      <td>22</td>\n",
       "      <td>101</td>\n",
       "      <td>1</td>\n",
       "      <td>5</td>\n",
       "      <td>44</td>\n",
       "    </tr>\n",
       "    <tr>\n",
       "      <th>8</th>\n",
       "      <td>160832063</td>\n",
       "      <td>304</td>\n",
       "      <td>4622</td>\n",
       "      <td>114</td>\n",
       "      <td>22</td>\n",
       "      <td>119</td>\n",
       "      <td>7</td>\n",
       "      <td>5</td>\n",
       "      <td>44</td>\n",
       "    </tr>\n",
       "    <tr>\n",
       "      <th>9</th>\n",
       "      <td>160819647</td>\n",
       "      <td>304</td>\n",
       "      <td>4584</td>\n",
       "      <td>22</td>\n",
       "      <td>22</td>\n",
       "      <td>31</td>\n",
       "      <td>1</td>\n",
       "      <td>5</td>\n",
       "      <td>44</td>\n",
       "    </tr>\n",
       "  </tbody>\n",
       "</table>\n",
       "</div>"
      ],
      "text/plain": [
       "   PanjivaRecordID  AdminRegion  ConsigneePanjivaID  CountryOfSale  Province  \\\n",
       "0        160711743          361                2681            100        19   \n",
       "1        161302911           83                3195             77        27   \n",
       "2        160601855          364                1358            119        26   \n",
       "3        160587967           75                1186             76        19   \n",
       "4        160564735          268                1134             21        19   \n",
       "5        161431295          302                1669             65        24   \n",
       "6        161209919          269                2830             76         2   \n",
       "7        160850303           78                1736             11        22   \n",
       "8        160832063          304                4622            114        22   \n",
       "9        160819647          304                4584             22        22   \n",
       "\n",
       "   ShipmentOrigin  TradeType  TransportMethod  hscode_6  \n",
       "0             105          7                5         1  \n",
       "1              97          7                1         1  \n",
       "2             105          7                5         1  \n",
       "3              79          7                5         1  \n",
       "4              20          7                5         1  \n",
       "5              68          7                5        44  \n",
       "6              79          7                5        44  \n",
       "7             101          1                5        44  \n",
       "8             119          7                5        44  \n",
       "9              31          1                5        44  "
      ]
     },
     "execution_count": 26,
     "metadata": {},
     "output_type": "execute_result"
    }
   ],
   "source": [
    "train_df.head(10)"
   ]
  },
  {
   "cell_type": "code",
   "execution_count": 27,
   "metadata": {},
   "outputs": [
    {
     "name": "stdout",
     "output_type": "stream",
     "text": [
      "In remove_order1_spurious_coocc ::\n",
      "Col 1 & 2 AdminRegion ConsigneePanjivaID (386, 5270) >> (386, 5270)\n",
      "Col 1 & 2 AdminRegion CountryOfSale (386, 122) >> (386, 122)\n",
      "Col 1 & 2 AdminRegion Province (386, 31) >> (386, 31)\n",
      "Col 1 & 2 AdminRegion ShipmentOrigin (386, 127) >> (386, 127)\n",
      "Col 1 & 2 AdminRegion TradeType (386, 10) >> (386, 10)\n",
      "Col 1 & 2 AdminRegion TransportMethod (386, 6) >> (386, 6)\n",
      "Col 1 & 2 AdminRegion hscode_6 (386, 74) >> (386, 74)\n",
      "Col 1 & 2 ConsigneePanjivaID CountryOfSale (5270, 122) >> (5270, 122)\n",
      "Col 1 & 2 ConsigneePanjivaID Province (5270, 31) >> (5270, 31)\n",
      "Col 1 & 2 ConsigneePanjivaID ShipmentOrigin (5270, 127) >> (5270, 127)\n",
      "Col 1 & 2 ConsigneePanjivaID TradeType (5270, 10) >> (5270, 10)\n",
      "Col 1 & 2 ConsigneePanjivaID TransportMethod (5270, 6) >> (5270, 6)\n",
      "Col 1 & 2 ConsigneePanjivaID hscode_6 (5270, 74) >> (5270, 74)\n",
      "Col 1 & 2 CountryOfSale Province (122, 31) >> (122, 31)\n",
      "Col 1 & 2 CountryOfSale ShipmentOrigin (122, 127) >> (122, 127)\n",
      "Col 1 & 2 CountryOfSale TradeType (122, 10) >> (122, 10)\n",
      "Col 1 & 2 CountryOfSale TransportMethod (122, 6) >> (122, 6)\n",
      "Col 1 & 2 CountryOfSale hscode_6 (122, 74) >> (122, 74)\n",
      "Col 1 & 2 Province ShipmentOrigin (31, 127) >> (31, 127)\n",
      "Col 1 & 2 Province TradeType (31, 10) >> (31, 10)\n",
      "Col 1 & 2 Province TransportMethod (31, 6) >> (31, 6)\n",
      "Col 1 & 2 Province hscode_6 (31, 74) >> (31, 74)\n",
      "Col 1 & 2 ShipmentOrigin TradeType (127, 10) >> (127, 10)\n",
      "Col 1 & 2 ShipmentOrigin TransportMethod (127, 6) >> (127, 6)\n",
      "Col 1 & 2 ShipmentOrigin hscode_6 (127, 74) >> (127, 74)\n",
      "Col 1 & 2 TradeType TransportMethod (10, 6) >> (10, 6)\n",
      "Col 1 & 2 TradeType hscode_6 (10, 74) >> (10, 74)\n",
      "Col 1 & 2 TransportMethod hscode_6 (6, 74) >> (6, 74)\n",
      "Post cleaning chunk lengths -> [903, 881, 885, 789]\n",
      " After deduplication ::  3458\n"
     ]
    }
   ],
   "source": [
    "res = clean_up_test_data.remove_order1_spurious_coocc(\n",
    "    train_df,\n",
    "    test_df,\n",
    "    id_col,\n",
    "    4\n",
    ")"
   ]
  },
  {
   "cell_type": "code",
   "execution_count": 8,
   "metadata": {},
   "outputs": [
    {
     "name": "stdout",
     "output_type": "stream",
     "text": [
      "In remove_order1_spurious_coocc ::\n",
      "Col 1 & 2 Carrier ConsigneePanjivaID (548, 5113) >> (548, 5113)\n",
      "Col 1 & 2 Carrier HSCode (548, 95) >> (548, 95)\n",
      "Col 1 & 2 Carrier PortOfLading (548, 238) >> (548, 238)\n",
      "Col 1 & 2 Carrier PortOfUnlading (548, 64) >> (548, 64)\n",
      "Col 1 & 2 Carrier ShipmentDestination (548, 113) >> (548, 113)\n",
      "Col 1 & 2 Carrier ShipmentOrigin (548, 116) >> (548, 116)\n",
      "Col 1 & 2 Carrier ShipperPanjivaID (548, 6193) >> (548, 6193)\n",
      "Col 1 & 2 ConsigneePanjivaID HSCode (5113, 95) >> (5113, 95)\n",
      "Col 1 & 2 ConsigneePanjivaID PortOfLading (5113, 238) >> (5113, 238)\n",
      "Col 1 & 2 ConsigneePanjivaID PortOfUnlading (5113, 64) >> (5113, 64)\n",
      "Col 1 & 2 ConsigneePanjivaID ShipmentDestination (5113, 113) >> (5113, 113)\n",
      "Col 1 & 2 ConsigneePanjivaID ShipmentOrigin (5113, 116) >> (5113, 116)\n",
      "Col 1 & 2 ConsigneePanjivaID ShipperPanjivaID (5113, 6193) >> (5113, 6193)\n",
      "Col 1 & 2 HSCode PortOfLading (95, 238) >> (95, 238)\n",
      "Col 1 & 2 HSCode PortOfUnlading (95, 64) >> (95, 64)\n",
      "Col 1 & 2 HSCode ShipmentDestination (95, 113) >> (95, 113)\n",
      "Col 1 & 2 HSCode ShipmentOrigin (95, 116) >> (95, 116)\n",
      "Col 1 & 2 HSCode ShipperPanjivaID (95, 6193) >> (95, 6193)\n",
      "Col 1 & 2 PortOfLading PortOfUnlading (238, 64) >> (238, 64)\n",
      "Col 1 & 2 PortOfLading ShipmentDestination (238, 113) >> (238, 113)\n",
      "Col 1 & 2 PortOfLading ShipmentOrigin (238, 116) >> (238, 116)\n",
      "Col 1 & 2 PortOfLading ShipperPanjivaID (238, 6193) >> (238, 6193)\n",
      "Col 1 & 2 PortOfUnlading ShipmentDestination (64, 113) >> (64, 113)\n",
      "Col 1 & 2 PortOfUnlading ShipmentOrigin (64, 116) >> (64, 116)\n",
      "Col 1 & 2 PortOfUnlading ShipperPanjivaID (64, 6193) >> (64, 6193)\n",
      "Col 1 & 2 ShipmentDestination ShipmentOrigin (113, 116) >> (113, 116)\n",
      "Col 1 & 2 ShipmentDestination ShipperPanjivaID (113, 6193) >> (113, 6193)\n",
      "Col 1 & 2 ShipmentOrigin ShipperPanjivaID (116, 6193) >> (116, 6193)\n",
      "Post cleaning chunk lengths -> [184, 182]\n",
      " After deduplication ::  366\n"
     ]
    }
   ],
   "source": [
    "test_df_file = os.path.join(save_dir, CONFIG['test_data_file'])\n",
    "test_df.to_csv(test_df_file, index=False)\n",
    "\n",
    "\n",
    "# ------------------------------------------------- "
   ]
  },
  {
   "cell_type": "code",
   "execution_count": null,
   "metadata": {},
   "outputs": [],
   "source": []
  },
  {
   "cell_type": "code",
   "execution_count": 42,
   "metadata": {},
   "outputs": [
    {
     "data": {
      "text/plain": [
       "81896"
      ]
     },
     "execution_count": 42,
     "metadata": {},
     "output_type": "execute_result"
    }
   ],
   "source": [
    "dir = './../../../../../ad_1/generated_data/china_import2/'\n",
    "df1 = pd.read_csv(os.path.join(dir,'train_data.csv'))\n",
    "len(df1)\n"
   ]
  },
  {
   "cell_type": "code",
   "execution_count": 30,
   "metadata": {},
   "outputs": [
    {
     "data": {
      "text/plain": [
       "1228440"
      ]
     },
     "execution_count": 30,
     "metadata": {},
     "output_type": "execute_result"
    }
   ],
   "source": [
    "df2 = pd.read_csv(os.path.join(save_dir, 'negative_samples_v1.csv'))\n",
    "len(df2)"
   ]
  },
  {
   "cell_type": "code",
   "execution_count": 31,
   "metadata": {},
   "outputs": [
    {
     "data": {
      "text/plain": [
       "15.0"
      ]
     },
     "execution_count": 31,
     "metadata": {},
     "output_type": "execute_result"
    }
   ],
   "source": [
    "\n",
    "1228440/81896"
   ]
  },
  {
   "cell_type": "code",
   "execution_count": null,
   "metadata": {},
   "outputs": [],
   "source": []
  }
 ],
 "metadata": {
  "kernelspec": {
   "display_name": "Python 3",
   "language": "python",
   "name": "python3"
  },
  "language_info": {
   "codemirror_mode": {
    "name": "ipython",
    "version": 3
   },
   "file_extension": ".py",
   "mimetype": "text/x-python",
   "name": "python",
   "nbconvert_exporter": "python",
   "pygments_lexer": "ipython3",
   "version": "3.7.2"
  }
 },
 "nbformat": 4,
 "nbformat_minor": 4
}
