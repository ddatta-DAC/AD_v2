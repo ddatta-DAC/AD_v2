{
 "cells": [
  {
   "cell_type": "code",
   "execution_count": 1,
   "metadata": {},
   "outputs": [],
   "source": [
    "import os\n",
    "import sys\n",
    "import pandas as pd\n",
    "import numpy as np\n",
    "import sklearn\n",
    "import glob\n",
    "import pickle\n",
    "import random\n",
    "from joblib import Parallel, delayed\n",
    "import yaml\n",
    "import math\n"
   ]
  },
  {
   "cell_type": "code",
   "execution_count": 39,
   "metadata": {},
   "outputs": [],
   "source": [
    "DIR = 'china_import'\n",
    "id_col = 'PanjivaRecordID'\n",
    "freq_bound = 2"
   ]
  },
  {
   "cell_type": "code",
   "execution_count": 40,
   "metadata": {},
   "outputs": [],
   "source": [
    "\n",
    "def get_regex(_type):\n",
    "    global DIR\n",
    "    if DIR == 'us_import':\n",
    "        if _type == 'train':\n",
    "            return '*0[1-4]**2015*.csv'\n",
    "        if _type == 'test':\n",
    "            return '*0[5-6]*2015*.csv'\n",
    "\n",
    "    if DIR == 'china_import':\n",
    "        if _type == 'train':\n",
    "            return '*0[1-9]*2015*.csv'\n",
    "        if _type == 'test':\n",
    "            return '*0[1-6]*2016*.csv'\n",
    "\n",
    "    if DIR == 'peru_export':\n",
    "        if _type == 'train':\n",
    "            return '*201[5-6]*.csv'\n",
    "        if _type == 'test':\n",
    "            return '*201[7,8]*.csv'\n",
    "\n",
    "    if DIR == 'china_export':\n",
    "        if _type == 'train':\n",
    "            return '*0[1-4]*2015*.csv'\n",
    "        if _type == 'test':\n",
    "            return '*0[5-6]*2015*.csv'\n",
    "\n",
    "    return '*.csv'\n"
   ]
  },
  {
   "cell_type": "code",
   "execution_count": 41,
   "metadata": {},
   "outputs": [],
   "source": [
    "\n",
    "def get_files(_type='all'):\n",
    "    global DIR\n",
    "    data_dir = os.path.join(\n",
    "        './../../wwf_data_v1',\n",
    "        DIR\n",
    "    )\n",
    "\n",
    "    regex = get_regex(_type)\n",
    "    files = sorted(\n",
    "        glob.glob(\n",
    "            os.path.join(data_dir, regex)\n",
    "        )\n",
    "    )\n",
    "    print(files)\n",
    "    return files\n",
    "\n"
   ]
  },
  {
   "cell_type": "code",
   "execution_count": 46,
   "metadata": {},
   "outputs": [],
   "source": [
    "# use_cols = [\n",
    "#         'PanjivaRecordID',\n",
    "#         'ShipmentDestination',\n",
    "#         'hscode_6',\n",
    "#         'ShipperPanjivaID',\n",
    "#         'PortOfUnladingUNLOCODE',\n",
    "#         'CustomsCode',\n",
    "#         'TransportMethod',\n",
    "#         'LocationCode'\n",
    "#      ]\n",
    "\n",
    "use_cols = [\n",
    "    'PanjivaRecordID',\n",
    "    'ConsigneePanjivaID',\n",
    "    'ShipmentOrigin',\n",
    "    'Province',\n",
    "    'CountryOfSale',\n",
    "    'TransportMethod',\n",
    "    'AdminRegion',\n",
    "    'TradeType',\n",
    "    'hscode_6',\n",
    "]"
   ]
  },
  {
   "cell_type": "code",
   "execution_count": 47,
   "metadata": {},
   "outputs": [],
   "source": [
    "def collate(file_list):\n",
    "    global id_col\n",
    "    global use_cols\n",
    "    print(use_cols)\n",
    "    \n",
    "     \n",
    "    _master_df = None\n",
    "    for file in file_list:\n",
    "        _df = pd.read_csv(\n",
    "            file,\n",
    "            low_memory=False,\n",
    "            usecols=use_cols\n",
    "        )\n",
    "        _df = _df.dropna()\n",
    "        if _master_df is None:\n",
    "            _master_df = pd.DataFrame(_df)\n",
    "        else:\n",
    "            _master_df = _master_df.append(\n",
    "                _df,\n",
    "                ignore_index=True\n",
    "            )\n",
    "    feature_cols = list(_master_df.columns)\n",
    "    feature_cols.remove(id_col)\n",
    "    feature_cols = list(sorted(feature_cols))\n",
    "    all_cols = [id_col]\n",
    "    all_cols.extend(feature_cols)\n",
    "    print(all_cols)\n",
    "    _master_df = _master_df[all_cols]\n",
    "    return _master_df"
   ]
  },
  {
   "cell_type": "code",
   "execution_count": null,
   "metadata": {},
   "outputs": [],
   "source": []
  },
  {
   "cell_type": "code",
   "execution_count": 48,
   "metadata": {},
   "outputs": [],
   "source": [
    "def remove_low_frequency_values(_df,fr=5):\n",
    "    global id_col\n",
    "    global freq_bound\n",
    "    from collections import Counter\n",
    "    freq_bound = fr\n",
    "    freq_column_value_filters = {}\n",
    "\n",
    "    feature_cols = list(_df.columns)\n",
    "    feature_cols.remove(id_col)\n",
    "\n",
    "    for c in feature_cols:\n",
    "        values = list(_df[c])\n",
    "        freq_column_value_filters[c] = []\n",
    "\n",
    "        obj_counter = Counter(values)\n",
    "\n",
    "        for _item, _count in obj_counter.items():\n",
    "            if _count < freq_bound:\n",
    "                freq_column_value_filters[c].append(_item)\n",
    "\n",
    "    for c, _items in freq_column_value_filters.items():\n",
    "        print(c, len(_items))\n",
    "    print(len(_df))\n",
    "    for col, val in freq_column_value_filters.items():\n",
    "        _df = _df.loc[\n",
    "            (~_df[col].isin(val))\n",
    "        ]\n",
    "    for col in _df.columns:\n",
    "        if col ==id_col : continue\n",
    "        print(col, ':: ', len(set(_df[col])))\n",
    "    return _df"
   ]
  },
  {
   "cell_type": "code",
   "execution_count": 53,
   "metadata": {},
   "outputs": [
    {
     "name": "stdout",
     "output_type": "stream",
     "text": [
      "['./../../wwf_data_v1/china_import/panjiva_china_imports_01_2015_filtered.csv', './../../wwf_data_v1/china_import/panjiva_china_imports_02_2015_filtered.csv', './../../wwf_data_v1/china_import/panjiva_china_imports_03_2015_filtered.csv', './../../wwf_data_v1/china_import/panjiva_china_imports_04_2015_filtered.csv', './../../wwf_data_v1/china_import/panjiva_china_imports_05_2015_filtered.csv', './../../wwf_data_v1/china_import/panjiva_china_imports_06_2015_filtered.csv', './../../wwf_data_v1/china_import/panjiva_china_imports_07_2015_filtered.csv', './../../wwf_data_v1/china_import/panjiva_china_imports_08_2015_filtered.csv', './../../wwf_data_v1/china_import/panjiva_china_imports_09_2015_filtered.csv']\n",
      "['PanjivaRecordID', 'ConsigneePanjivaID', 'ShipmentOrigin', 'Province', 'CountryOfSale', 'TransportMethod', 'AdminRegion', 'TradeType', 'hscode_6']\n",
      "['PanjivaRecordID', 'AdminRegion', 'ConsigneePanjivaID', 'CountryOfSale', 'Province', 'ShipmentOrigin', 'TradeType', 'TransportMethod', 'hscode_6']\n",
      ">>> 86954\n",
      "AdminRegion 67\n",
      "ConsigneePanjivaID 3873\n",
      "CountryOfSale 15\n",
      "Province 0\n",
      "ShipmentOrigin 15\n",
      "TradeType 3\n",
      "TransportMethod 0\n",
      "hscode_6 1\n",
      "86954\n",
      "AdminRegion ::  386\n",
      "ConsigneePanjivaID ::  5270\n",
      "CountryOfSale ::  122\n",
      "Province ::  31\n",
      "ShipmentOrigin ::  128\n",
      "TradeType ::  10\n",
      "TransportMethod ::  6\n",
      "hscode_6 ::  74\n"
     ]
    },
    {
     "data": {
      "text/plain": [
       "81907"
      ]
     },
     "execution_count": 53,
     "metadata": {},
     "output_type": "execute_result"
    }
   ],
   "source": [
    "files = get_files(_type='train')\n",
    "df = collate(files)\n",
    "print('>>>',len(df))\n",
    "_ = remove_low_frequency_values(\n",
    "        df,3\n",
    "    )\n",
    "len(_)"
   ]
  },
  {
   "cell_type": "code",
   "execution_count": null,
   "metadata": {},
   "outputs": [],
   "source": []
  }
 ],
 "metadata": {
  "kernelspec": {
   "display_name": "Python 3",
   "language": "python",
   "name": "python3"
  },
  "language_info": {
   "codemirror_mode": {
    "name": "ipython",
    "version": 3
   },
   "file_extension": ".py",
   "mimetype": "text/x-python",
   "name": "python",
   "nbconvert_exporter": "python",
   "pygments_lexer": "ipython3",
   "version": "3.6.8"
  }
 },
 "nbformat": 4,
 "nbformat_minor": 2
}
