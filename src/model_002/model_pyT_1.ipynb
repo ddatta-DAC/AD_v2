{
 "cells": [
  {
   "cell_type": "code",
   "execution_count": 2,
   "metadata": {},
   "outputs": [],
   "source": [
    "import numpy as np"
   ]
  },
  {
   "cell_type": "code",
   "execution_count": 3,
   "metadata": {},
   "outputs": [],
   "source": [
    "import torch\n",
    "import torch.nn as nn\n",
    "import torch.nn.functional as F\n"
   ]
  },
  {
   "cell_type": "code",
   "execution_count": 5,
   "metadata": {},
   "outputs": [
    {
     "data": {
      "text/plain": [
       "True"
      ]
     },
     "execution_count": 5,
     "metadata": {},
     "output_type": "execute_result"
    }
   ],
   "source": [
    "torch.cuda.is_available()"
   ]
  },
  {
   "cell_type": "code",
   "execution_count": 9,
   "metadata": {},
   "outputs": [
    {
     "ename": "SyntaxError",
     "evalue": "duplicate argument 'domain_dims' in function definition (<ipython-input-9-87bea1ae4bae>, line 13)",
     "output_type": "error",
     "traceback": [
      "\u001b[0;36m  File \u001b[0;32m\"<ipython-input-9-87bea1ae4bae>\"\u001b[0;36m, line \u001b[0;32m13\u001b[0m\n\u001b[0;31m    emd_dim,\u001b[0m\n\u001b[0m       ^\u001b[0m\n\u001b[0;31mSyntaxError\u001b[0m\u001b[0;31m:\u001b[0m duplicate argument 'domain_dims' in function definition\n"
     ]
    }
   ],
   "source": [
    "class Net(nn.Module):\n",
    "\n",
    "    def __init__(self):\n",
    "        # this is the place where you instantiate all your modules\n",
    "        # you can later access them using the same names you've given them in\n",
    "        # here\n",
    "        super(Net, self).__init__()\n",
    "        \n",
    "        \n",
    "    def setup_model(\n",
    "        self, \n",
    "        domain_dims,\n",
    "        emd_dim,\n",
    "        domain_dims,\n",
    "        domain_emb_wt,\n",
    "        lstm_dim,\n",
    "        interaction_layer_dim,\n",
    "        intermediate_context_dims,\n",
    "        \n",
    "    ):\n",
    "        self.num_domains = len(domain_dims)\n",
    "        self.domain_dims = domain_dims\n",
    "        self.list_Entity_Embed = []\n",
    "        self.interaction_layer_dim = interaction_layer_dim\n",
    "        for d in domain_dims:\n",
    "            e = nn.Embedding(num_embeddings=d, embedding_dim=emd_dim)\n",
    "            self.list_Entity_Embed.append(e)\n",
    "        \n",
    "        \n",
    "        self.BD_LSTM_layer = nn.LSTM(\n",
    "            input_size = emd_dim,\n",
    "            hidden_size = lstm_dim,\n",
    "            num_layers = 1,\n",
    "            batch_first = True,\n",
    "            bidirectional = True\n",
    "            )\n",
    "        \n",
    "        self.FNN_1 = nn.Linear(self.lstm_dim*2, intermediate_context_dims[0])\n",
    "        self.FNN_2 = nn.Linear(intermediate_context_dims[0], self.interaction_layer_dim) \n",
    "           \n",
    "        return\n",
    "    \n",
    "    \n",
    "    # Define network structure\n",
    "    def forward(self, input_x_pos, input_x_neg=None):\n",
    "        \n",
    "        def process(x):\n",
    "            x = torch.chunk(x, chunks = self.num_domains)\n",
    "            for i in range(self.num_domains) :\n",
    "                pass\n",
    "                \n",
    "            return x\n",
    "        \n",
    "        \n",
    "        return x"
   ]
  },
  {
   "cell_type": "code",
   "execution_count": 10,
   "metadata": {},
   "outputs": [
    {
     "ename": "NameError",
     "evalue": "name 'Net' is not defined",
     "output_type": "error",
     "traceback": [
      "\u001b[0;31m---------------------------------------------------------------------------\u001b[0m",
      "\u001b[0;31mNameError\u001b[0m                                 Traceback (most recent call last)",
      "\u001b[0;32m<ipython-input-10-79ad6ecc192f>\u001b[0m in \u001b[0;36m<module>\u001b[0;34m\u001b[0m\n\u001b[0;32m----> 1\u001b[0;31m \u001b[0mnet\u001b[0m \u001b[0;34m=\u001b[0m \u001b[0mNet\u001b[0m\u001b[0;34m(\u001b[0m\u001b[0;34m)\u001b[0m\u001b[0;34m\u001b[0m\u001b[0;34m\u001b[0m\u001b[0m\n\u001b[0m\u001b[1;32m      2\u001b[0m \u001b[0mprint\u001b[0m\u001b[0;34m(\u001b[0m\u001b[0mnet\u001b[0m\u001b[0;34m)\u001b[0m\u001b[0;34m\u001b[0m\u001b[0;34m\u001b[0m\u001b[0m\n",
      "\u001b[0;31mNameError\u001b[0m: name 'Net' is not defined"
     ]
    }
   ],
   "source": [
    "net = Net()\n",
    "print(net)"
   ]
  },
  {
   "cell_type": "code",
   "execution_count": null,
   "metadata": {},
   "outputs": [],
   "source": []
  }
 ],
 "metadata": {
  "kernelspec": {
   "display_name": "Python 3",
   "language": "python",
   "name": "python3"
  },
  "language_info": {
   "codemirror_mode": {
    "name": "ipython",
    "version": 3
   },
   "file_extension": ".py",
   "mimetype": "text/x-python",
   "name": "python",
   "nbconvert_exporter": "python",
   "pygments_lexer": "ipython3",
   "version": "3.6.9"
  }
 },
 "nbformat": 4,
 "nbformat_minor": 4
}
