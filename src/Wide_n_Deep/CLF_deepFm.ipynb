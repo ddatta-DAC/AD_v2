{
 "cells": [
  {
   "cell_type": "code",
   "execution_count": 2,
   "metadata": {},
   "outputs": [],
   "source": [
    "import pandas as pd\n",
    "import numpy as np\n",
    "from torch import nn\n",
    "import torch\n",
    "from torch import tensor\n",
    " \n",
    "import multiprocessing\n",
    "from torch.utils.data import DataLoader\n",
    "from torch.utils.data import Dataset\n",
    "from torch.utils.data import RandomSampler, SequentialSampler\n",
    "import yaml\n",
    "import pickle\n",
    "import torch\n",
    "import torch.nn as nn\n"
   ]
  },
  {
   "cell_type": "code",
   "execution_count": 105,
   "metadata": {},
   "outputs": [],
   "source": [
    "class clf_dfm(nn.Module):\n",
    "    \n",
    "    def __init__(\n",
    "        self,\n",
    "        num_domains,\n",
    "        inp_emb_dimensions,\n",
    "        fm_inp_dim = 64,\n",
    "        dnn_layer_dimensions =[512,128]\n",
    "    ):\n",
    "        super(clf_dfm, self).__init__()\n",
    "        self.dnn_fc = nn.ModuleList()\n",
    "        dnn_num_layers = len(dnn_layer_dimensions)\n",
    "        self.dnn_num_layers = dnn_num_layers\n",
    "        for i in range(dnn_num_layers):    \n",
    "            if i == 0: inp_dim = inp_emb_dimensions * num_domains\n",
    "            if i == dnn_num_layers-1:\n",
    "                op_dim = 1 \n",
    "            else:\n",
    "                op_dim = dnn_layer_dimensions[i] \n",
    "            self.dnn_fc.append( nn.Linear(inp_dim, op_dim ))\n",
    "            inp_dim = op_dim\n",
    "            \n",
    "        self.fc2 = nn.Linear(2,2,bias=False)    \n",
    "        self.activation_1 = torch.nn.Tanh()\n",
    "        self.softmax = torch.nn.Softmax()\n",
    "        self.num_domains = num_domains\n",
    "        self.xform_fm_1 = nn.ModuleList([nn.Linear(inp_emb_dimensions,fm_inp_dim) for _ in range(num_domains)])\n",
    "        print(self.xform_fm_1 )\n",
    "        return\n",
    "    \n",
    "    \n",
    "    def forward(self, input_x):\n",
    "        '''\n",
    "        input x should be of shape [Batch, num_domains, emb_vec]\n",
    "        '''\n",
    "        \n",
    "        # ----- DNN ------- #\n",
    "        x_dnn = input_x.view(-1,12)\n",
    "        \n",
    "        for i in range(self.dnn_num_layers):    \n",
    "            x_dnn = self.dnn_fc[i](x_dnn)\n",
    "        print(x_dnn.shape)\n",
    "        # ----- FM --------- #\n",
    "        \n",
    "        fm_input = input_x\n",
    "        # transform inner products with a MLP\n",
    "        fm_input = torch.chunk(\n",
    "            fm_input,\n",
    "            self.num_domains,\n",
    "            dim=1\n",
    "        )\n",
    "        print(fm_input[0].shape, len(fm_input))\n",
    "        x_fm_input = []\n",
    "        for i in range(self.num_domains):\n",
    "            x_fm_input.append( self.xform_fm_1[i](fm_input[i]).squeeze(1) )\n",
    "        x_fm_input = torch.stack(\n",
    "             x_fm_input, dim=2   \n",
    "        )    \n",
    "        print(x_fm_input.shape)      \n",
    "        \n",
    "        square_of_sum = torch.pow(torch.sum(x_fm_input, dim=1, keepdim=True), 2)\n",
    "        sum_of_square = torch.sum(x_fm_input * x_fm_input, dim=1, keepdim=True)\n",
    "        cross_term = square_of_sum - sum_of_square\n",
    "        cross_term = 0.5 * torch.sum(cross_term, dim=2, keepdim=False)\n",
    "        print(cross_term.shape)\n",
    "        x2 = torch.cat ([x_dnn, cross_term],dim = 1)\n",
    "        op = self.fc2(x2)\n",
    "        print(op.shape)\n",
    "        op = self.activation_1(op)\n",
    "        op = self.softmax (op)\n",
    "        return op\n",
    "    \n",
    "        "
   ]
  },
  {
   "cell_type": "code",
   "execution_count": 106,
   "metadata": {},
   "outputs": [
    {
     "name": "stdout",
     "output_type": "stream",
     "text": [
      "ModuleList(\n",
      "  (0): Linear(in_features=4, out_features=8, bias=True)\n",
      "  (1): Linear(in_features=4, out_features=8, bias=True)\n",
      "  (2): Linear(in_features=4, out_features=8, bias=True)\n",
      ")\n"
     ]
    }
   ],
   "source": [
    "model =  clf_dfm(\n",
    "    num_domains = 3,\n",
    "    inp_emb_dimensions = 4,\n",
    "    fm_inp_dim= 8,\n",
    "    dnn_layer_dimensions = [5,6]\n",
    ")"
   ]
  },
  {
   "cell_type": "code",
   "execution_count": 107,
   "metadata": {},
   "outputs": [],
   "source": [
    "x = torch.FloatTensor(np.random.random([10,3,4]))"
   ]
  },
  {
   "cell_type": "code",
   "execution_count": 108,
   "metadata": {},
   "outputs": [
    {
     "name": "stdout",
     "output_type": "stream",
     "text": [
      "torch.Size([10, 1])\n",
      "torch.Size([10, 1, 4]) 3\n",
      "torch.Size([10, 8, 3])\n",
      "torch.Size([10, 1])\n",
      "torch.Size([10, 2])\n"
     ]
    },
    {
     "name": "stderr",
     "output_type": "stream",
     "text": [
      "/home/ddatta/anaconda3/envs/AD_v2/lib/python3.6/site-packages/ipykernel_launcher.py:70: UserWarning: Implicit dimension choice for softmax has been deprecated. Change the call to include dim=X as an argument.\n"
     ]
    },
    {
     "data": {
      "text/plain": [
       "tensor([[0.3853, 0.6147],\n",
       "        [0.5029, 0.4971],\n",
       "        [0.3913, 0.6087],\n",
       "        [0.6236, 0.3764],\n",
       "        [0.4327, 0.5673],\n",
       "        [0.4662, 0.5338],\n",
       "        [0.4908, 0.5092],\n",
       "        [0.4709, 0.5291],\n",
       "        [0.3612, 0.6388],\n",
       "        [0.4063, 0.5937]], grad_fn=<SoftmaxBackward>)"
      ]
     },
     "execution_count": 108,
     "metadata": {},
     "output_type": "execute_result"
    }
   ],
   "source": [
    "model(x)"
   ]
  },
  {
   "cell_type": "code",
   "execution_count": null,
   "metadata": {},
   "outputs": [],
   "source": []
  },
  {
   "cell_type": "code",
   "execution_count": 63,
   "metadata": {},
   "outputs": [],
   "source": [
    "x1 = np.random.random([1,3,4])\n",
    "fm_input = x1\n",
    "\n",
    "square_of_sum = np.power(\n",
    "    np.sum(fm_input, axis=1, keepdims=True), \n",
    "    2\n",
    ")\n",
    "sum_of_square = np.sum(fm_input * fm_input, axis=1, keepdims=True)\n",
    "cross_term = square_of_sum - sum_of_square\n",
    "\n",
    "cross_term = 0.5 * np.sum(cross_term, axis=2, keepdims=False)\n"
   ]
  },
  {
   "cell_type": "code",
   "execution_count": 64,
   "metadata": {},
   "outputs": [
    {
     "data": {
      "text/plain": [
       "array([[[0.19505893, 0.19231236, 0.94403774, 0.89043176],\n",
       "        [0.43569211, 0.25410309, 0.2999439 , 0.69454437],\n",
       "        [0.21133718, 0.69357648, 0.39821617, 0.74579648]]])"
      ]
     },
     "execution_count": 64,
     "metadata": {},
     "output_type": "execute_result"
    }
   ],
   "source": [
    "fm_input"
   ]
  },
  {
   "cell_type": "code",
   "execution_count": 65,
   "metadata": {},
   "outputs": [
    {
     "data": {
      "text/plain": [
       "array([[3.15582316]])"
      ]
     },
     "execution_count": 65,
     "metadata": {},
     "output_type": "execute_result"
    }
   ],
   "source": [
    "cross_term"
   ]
  },
  {
   "cell_type": "code",
   "execution_count": 66,
   "metadata": {},
   "outputs": [
    {
     "data": {
      "text/plain": [
       "array([[[0.27253901, 0.58260076, 1.13974973, 1.83147299]]])"
      ]
     },
     "execution_count": 66,
     "metadata": {},
     "output_type": "execute_result"
    }
   ],
   "source": [
    "sum_of_square"
   ]
  },
  {
   "cell_type": "code",
   "execution_count": 71,
   "metadata": {},
   "outputs": [
    {
     "data": {
      "text/plain": [
       "array([0.19505893, 0.19231236, 0.94403774, 0.89043176])"
      ]
     },
     "execution_count": 71,
     "metadata": {},
     "output_type": "execute_result"
    }
   ],
   "source": [
    "x1[0][0]"
   ]
  },
  {
   "cell_type": "code",
   "execution_count": 72,
   "metadata": {},
   "outputs": [],
   "source": [
    "r = 0\n",
    "\n",
    "for i in range(3):\n",
    "    for j in range(i+1,3):\n",
    "        r += np.dot(x1[0][i],x1[0][j])\n",
    "    "
   ]
  },
  {
   "cell_type": "code",
   "execution_count": 74,
   "metadata": {},
   "outputs": [
    {
     "data": {
      "text/plain": [
       "3.1558231612885437"
      ]
     },
     "execution_count": 74,
     "metadata": {},
     "output_type": "execute_result"
    }
   ],
   "source": [
    "r"
   ]
  },
  {
   "cell_type": "code",
   "execution_count": null,
   "metadata": {},
   "outputs": [],
   "source": []
  }
 ],
 "metadata": {
  "kernelspec": {
   "display_name": "Python 3",
   "language": "python",
   "name": "python3"
  },
  "language_info": {
   "codemirror_mode": {
    "name": "ipython",
    "version": 3
   },
   "file_extension": ".py",
   "mimetype": "text/x-python",
   "name": "python",
   "nbconvert_exporter": "python",
   "pygments_lexer": "ipython3",
   "version": "3.6.9"
  }
 },
 "nbformat": 4,
 "nbformat_minor": 4
}
